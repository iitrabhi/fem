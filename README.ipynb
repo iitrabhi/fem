{
 "cells": [
  {
   "cell_type": "markdown",
   "metadata": {},
   "source": [
    "# fem\n",
    "\n",
    "This reporsitory contains tutorial and exercises to understand the basics of finite element method using python. \n",
    "\n",
    "## Getting Started\n",
    "\n",
    "These instructions will get you a copy of the project up and running on your local machine. \n",
    "\n",
    "- **Installation**: Download and install [anaconda](https://www.anaconda.com/products/individual) on your desktop.\n",
    "\n",
    "## Contents \n",
    "\n",
    "- [The matrix approach to bar problem.]()\n",
    "\n",
    "## Recommended books\n",
    "\n",
    "- [Finite element analysis - S.S. Bhavikatti](https://www.google.co.in/books/edition/Finite_Element_Analysis/YzecxxuNJPwC?hl=en&gbpv=1&dq=bhavikatti+finite+element+method&printsec=frontcover)\n",
    "\n",
    "## Authors\n",
    "\n",
    "- [Abhinav Gupta](iitrabhi.github.io)\n",
    "- [U Meenu Krishnan](https://github.com/umeenukrishnan)\n",
    "- [Philip Luke K](https://github.com/philiplukek)\n",
    "- [Bhagath M](https://github.com/bhagath555)"
   ]
  }
 ],
 "metadata": {
  "kernelspec": {
   "display_name": "Python 3",
   "language": "python",
   "name": "python3"
  },
  "language_info": {
   "codemirror_mode": {
    "name": "ipython",
    "version": 3
   },
   "file_extension": ".py",
   "mimetype": "text/x-python",
   "name": "python",
   "nbconvert_exporter": "python",
   "pygments_lexer": "ipython3",
   "version": "3.6.7"
  }
 },
 "nbformat": 4,
 "nbformat_minor": 4
}
