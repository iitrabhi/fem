{
 "cells": [
  {
   "cell_type": "markdown",
   "metadata": {},
   "source": [
    "# 1. Bar problem - Matrix Approach"
   ]
  },
  {
   "cell_type": "markdown",
   "metadata": {},
   "source": [
    "This tutorial will demonstrate the method to solve a typical 1-D bar problem, subjected to axial loading. Instead of the classical SOM approach, Matrix methods are used.\n",
    "\n"
   ]
  },
  {
   "cell_type": "markdown",
   "metadata": {},
   "source": [
    " "
   ]
  },
  {
   "cell_type": "markdown",
   "metadata": {},
   "source": [
    "### 1.1. Behaviour of a single Bar element\n",
    "\n",
    "Consider a horizontally laid bar/truss element having cross-section $A$, Young's Modulus $E$ and length $L$ as shown below. \n",
    "\n",
    "\n",
    "\n",
    "For an axial load $P$, the extension/shortening $\\delta$ of the bar is \n",
    "$$ \\delta = \\frac{PL}{AE}$$\n",
    "\n",
    "$\\\\ $\n",
    "![barelement](bar_element.png)\n",
    "\n",
    "So for a case where $\\delta = 1$, $P = \\frac{AE}{L}$"
   ]
  },
  {
   "cell_type": "markdown",
   "metadata": {},
   "source": [
    " "
   ]
  },
  {
   "cell_type": "markdown",
   "metadata": {},
   "source": [
    "The stiffness matrix $K$ for the above bar element can be found out by assembling the stiffness elements $k_{i,j}$. Where $k_{i,j}$ denotes the force at coordinate $i$ when a unit displacement is given at coordinate $j$\n",
    "\n",
    "For the bar element under consideration, there are 2 coordinates. So the stiffness matrix $K$ will constitute the terms $k_{1,1}, k_{1,2}, k_{2,1}$ and $k_{2,2}$. These are represented below.  \n",
    "\n",
    "![stiffness_of_bar_element](bar_eqbm.png)"
   ]
  },
  {
   "cell_type": "markdown",
   "metadata": {},
   "source": [
    " "
   ]
  },
  {
   "cell_type": "markdown",
   "metadata": {},
   "source": [
    "It is obvious from the figures that for both cases of coordinate displacements \n",
    "\n",
    "$$p_1 + p_2 = 0 $$\n",
    "\n",
    "Also since only unit displacements are considered, from the first figure: \n",
    "$$ k_{1,1} = p_1 = \\frac{AE}{L}$$\n",
    "$$ k_{2,1} = p_2 = -\\frac{AE}{L}$$\n",
    "\n",
    "From the second figure;\n",
    "$$ k_{2,2} = p_2 = \\frac{AE}{L}$$\n",
    "$$ k_{1,2} = p_1 = -\\frac{AE}{L}$$\n",
    "\n",
    "Therefore the stiffness matrix becomes \n",
    "\n",
    "$$ K = \\left[\\begin{array}{cc}\n",
    "\\frac{AE}{L} & -\\frac{AE}{L} \\\\\n",
    "-\\frac{AE}{L} & \\frac{AE}{L}\n",
    "\\end{array}\\right] $$\n",
    "\n",
    "i.e $$ K =\\frac{AE}{L}\\left[\\begin{array}{cc}\n",
    "1 & -1 \\\\\n",
    "-1 & 1\n",
    "\\end{array}\\right] $$"
   ]
  },
  {
   "cell_type": "markdown",
   "metadata": {},
   "source": [
    "  "
   ]
  },
  {
   "cell_type": "markdown",
   "metadata": {},
   "source": [
    "So, for a generic bar element, that may produce displacements $u_1$ and $u_2$ at both the coordinates due to arbitrary forces $p_1$ and/or $p_2$, the equilibrium equation may be written in matrix form as \n",
    "\n",
    "$$\\left[\\begin{array}{c}\n",
    "p_1\\\\\n",
    "p_2\n",
    "\\end{array}\\right] = \\frac{AE}{L}\\left[\\begin{array}{cc}\n",
    "1 & -1 \\\\\n",
    "-1 & 1\n",
    "\\end{array}\\right]\\left[\\begin{array}{c}\n",
    "u_1\\\\\n",
    "u_2\n",
    "\\end{array}\\right] $$\n",
    "\n",
    "which is of the form $F = KU$, where $F$ is the external force vector, $K$ is the stiffness matrix and $U$ is the displacement vector for the bar element."
   ]
  },
  {
   "cell_type": "markdown",
   "metadata": {},
   "source": [
    "This element stiffness matrix is universal and is one of the defining points of FEM. For any bar element with constant area A in one dimension, the above formula gives the stiffness matrix."
   ]
  },
  {
   "cell_type": "markdown",
   "metadata": {},
   "source": [
    " "
   ]
  },
  {
   "cell_type": "markdown",
   "metadata": {},
   "source": [
    "### 1.2 System of Bar elements  \n",
    "\n",
    "Consider a system as shown consisting of 2 different bar elements, each with it's own properties :\n",
    "\n",
    "![bar_system](bar_system.png)\n",
    "\n",
    "It can be noted that the coordinate/node 2 is common for both the elements. Such an interconnected system needs to be solved as follows :  \n",
    "1. Discretize/divide the system into different elements\n",
    "2. Write the equilibrium equation for each of the element (Stiffness matrix, force vector)\n",
    "3. Form the Global level/System level equilibrium equation from the element-level equations by proper assembly through node connectivities. \n",
    "4. Solve the global system equation $K_G U_G = F_G$, the subscript G denoting the quantity at global/system level"
   ]
  },
  {
   "cell_type": "markdown",
   "metadata": {},
   "source": [
    " "
   ]
  },
  {
   "cell_type": "markdown",
   "metadata": {},
   "source": [
    "Let me demonstrate the procedure for the above 2-element problem\n",
    "\n",
    "#### Step 1 : \n",
    "\n",
    "Seperate both the elements at the common point, i.e coordinate 2 \n",
    "\n",
    "![elements](bar_system_elements.png)\n",
    "\n",
    "#### Step 2: \n",
    "\n",
    "Equilibrium equation for element 1 : $$\\left[\\begin{array}{c}\n",
    "p_1\\\\\n",
    "p_2\n",
    "\\end{array}\\right] = \\frac{A_1E_1}{L_1}\\left[\\begin{array}{cc}\n",
    "1 & -1 \\\\\n",
    "-1 & 1\n",
    "\\end{array}\\right]\\left[\\begin{array}{c}\n",
    "u_1\\\\\n",
    "u_2\n",
    "\\end{array}\\right] $$\n",
    "\n",
    "Equilibrium equation for element 2 : $$\\left[\\begin{array}{c}\n",
    "p_2\\\\\n",
    "p_3\n",
    "\\end{array}\\right] = \\frac{A_2E_2}{L_2}\\left[\\begin{array}{cc}\n",
    "1 & -1 \\\\\n",
    "-1 & 1\n",
    "\\end{array}\\right]\\left[\\begin{array}{c}\n",
    "u_2\\\\\n",
    "u_3\n",
    "\\end{array}\\right] $$\n",
    "\n",
    "For future purpose, both the stiffness matrices are represented using indices of the form $k_{ij}^e$ where $i,j$ represents the coordinates and $e$ represents the element number. \n",
    "\n",
    "$\\implies$ For element 1, $K_1 = \\left[\\begin{array}{cc}\n",
    "k_{11}^1 & k_{12}^1 \\\\\n",
    "k_{21}^1 & k_{22}^1 \n",
    "\\end{array}\\right]$\n",
    "Similarly for element 2,  $K_2 = \\left[\\begin{array}{cc}\n",
    "k_{22}^2 & k_{23}^2 \\\\\n",
    "k_{32}^2 & k_{33}^2\n",
    "\\end{array}\\right]$\n",
    "\n",
    "#### Step 3 : \n",
    "\n",
    "As mentioned, the node 2 is common for both the elements. This means that the effect of the node number 2 gets together and acts as a single node when both the elements connected to this node are unified together. \n",
    "\n",
    "In other words, even though both the individual elements have equations on the order of 2, the assembled global system will have equations in the order 3, instead of $2+2 = 4$. \n",
    "\n",
    "Therefore the global force vector : \n",
    "$$F_G = \\left[\\begin{array}{c}\n",
    "p_1 \\\\\n",
    "p_2\\\\\n",
    "p_3\n",
    "\\end{array}\\right]$$\n",
    "\n",
    "Global Displacement vector : \n",
    "$$U_G = \\left[\\begin{array}{c}\n",
    "u_1 \\\\\n",
    "u_2\\\\\n",
    "u_3\n",
    "\\end{array}\\right]$$\n",
    "\n",
    "To obtain the global stiffness matrix, which obviously has to be in the size $3 \\times 3$, node conectivity is utilized. In a $3 \\times 3$ square matrix, the components of element-level stiffness matrices $K_1$ and $K_2$ are arranged according to their coordinate numbers. Components having similar coordinate number gets added and the components whose coordinates do not appear in element-level matrices are given 0 value. This is shown below \n",
    "\n",
    "$$K_G = \\left[\\begin{array}{ccc}\n",
    "\\frac{A_1E_1}{L_1} & -\\frac{A_1E_1}{L_1} & 0 \\\\\n",
    "-\\frac{A_1E_1}{L_1} & \\frac{A_1E_1}{L_1} + \\frac{A_2E_2}{L_2} & -\\frac{A_2E_2}{L_2} \\\\\n",
    "0 & -\\frac{A_2E_2}{L_2} & \\frac{A_2E_2}{L_2}\n",
    "\\end{array}\\right] $$\n",
    "\n",
    "#### Step 4 : \n",
    "\n",
    "This step is basically arranging the different global-level matrices obtained in the previous step, and solving for the unknowns after substituting known data such as displacement values, force values etc.. \n",
    "\n",
    "$$K_GU_G = F_G$$ \n",
    "\n",
    "\n",
    "$$ \\implies \\left[\\begin{array}{ccc}\n",
    "\\frac{A_1E_1}{L_1} & -\\frac{A_1E_1}{L_1} & 0 \\\\\n",
    "-\\frac{A_1E_1}{L_1} & \\frac{A_1E_1}{L_1} + \\frac{A_2E_2}{L_2} & -\\frac{A_2E_2}{L_2} \\\\\n",
    "0 & -\\frac{A_2E_2}{L_2} & \\frac{A_2E_2}{L_2}\n",
    "\\end{array}\\right]\\left[\\begin{array}{c}\n",
    "u_1 \\\\\n",
    "u_2\\\\\n",
    "u_3\n",
    "\\end{array}\\right] = \\left[\\begin{array}{c}\n",
    "p_1 \\\\\n",
    "p_2\\\\\n",
    "p_3\n",
    "\\end{array}\\right]$$\n",
    "\n",
    "Note: For any particular coordinate/node, both displacement and force values cannot be knowns. "
   ]
  },
  {
   "cell_type": "markdown",
   "metadata": {},
   "source": [
    "\n",
    " \n",
    " "
   ]
  },
  {
   "cell_type": "markdown",
   "metadata": {},
   "source": [
    "### 1.3 Solving by example \n",
    "\n",
    "Three bars are joined as shown in Figure. The left and right ends are both constrained, i.e. prescribed\n",
    "displacement is zero at both ends. There is a force of 5 N acting on the middle node. The nodes are numbered starting with the nodes where displacements are prescribed. Assume area, lengths and elasticity\n",
    "\n",
    "_(Example 2.1, A First Course in Finite Elements, Fish & Belychko)_\n",
    "\n",
    "![example_problem](example.png)"
   ]
  },
  {
   "cell_type": "markdown",
   "metadata": {},
   "source": [
    "**Solution**\n",
    "\n",
    "From the figure, it can be observed that the system consists of 3 different bar elements connected through 3 nodes. The first and second elements have the same length and connected between nodes 1 and 3. The third element is connected between nodes 3 and 2. This order of connectivity is important as it will help assemble the global quantities. Also restraints are given at nodes 1 and 2 while the loading is applied at node 3. i.e\n",
    "\n",
    "$$u_1 = 0 \\\\ u_2 = 0 \\\\ p_3 = 5 $$\n",
    "\n",
    "$\\therefore$ equation for element 1 : $$\\left[\\begin{array}{c}\n",
    "p_1^1\\\\\n",
    "p_3^1\n",
    "\\end{array}\\right] = \\left[\\begin{array}{cc}\n",
    "k_{11}^1 & k_{13}^1 \\\\\n",
    "k_{31}^1 & k_{33}^1 \n",
    "\\end{array}\\right]\\left[\\begin{array}{c}\n",
    "u_1^1\\\\\n",
    "u_3^1\n",
    "\\end{array}\\right] $$\n",
    "\n",
    "for element 2 : $$\\left[\\begin{array}{c}\n",
    "p_1^2\\\\\n",
    "p_3^2\n",
    "\\end{array}\\right] = \\left[\\begin{array}{cc}\n",
    "k_{11}^2 & k_{13}^2 \\\\\n",
    "k_{31}^2 & k_{33}^2 \n",
    "\\end{array}\\right]\\left[\\begin{array}{c}\n",
    "u_1^2\\\\\n",
    "u_3^2\n",
    "\\end{array}\\right] $$\n",
    "\n",
    "for element 3 : $$\\left[\\begin{array}{c}\n",
    "p_3^3\\\\\n",
    "p_2^3\n",
    "\\end{array}\\right] = \\left[\\begin{array}{cc}\n",
    "k_{33}^3 & k_{32}^3 \\\\\n",
    "k_{23}^3 & k_{22}^3 \n",
    "\\end{array}\\right]\\left[\\begin{array}{c}\n",
    "u_3^3\\\\\n",
    "u_2^3\n",
    "\\end{array}\\right] $$\n",
    "\n",
    "Arranging in Global form gives : \n",
    "\n",
    "$$\\left[\\begin{array}{c}\n",
    "p_1\\\\\n",
    "p_2\\\\\n",
    "5\n",
    "\\end{array}\\right] = \\left[\\begin{array}{ccc}\n",
    "k_{11}^1+k_{11}^2 & 0 & k_{13}^1 + k_{13}^2 \\\\\n",
    "0 & k_{22}^3 & k_{23}^3 \\\\\n",
    "k_{31}^1 + k_{31}^2 & k_{32}^3 & k_{33}^1 + k_{33}^2 \n",
    "\\end{array}\\right]\\left[\\begin{array}{c}\n",
    "0\\\\\n",
    "0\\\\\n",
    "u_3\n",
    "\\end{array}\\right] $$"
   ]
  },
  {
   "cell_type": "markdown",
   "metadata": {},
   "source": [
    "where $p_1$ and $p_2$ are the reaction forces at the locations 1 and 2, $u_3$ is the displacement at location 3. "
   ]
  },
  {
   "cell_type": "markdown",
   "metadata": {},
   "source": [
    "**_Let us try to solve this matrix-oriented-problem through computer programming_**  "
   ]
  },
  {
   "cell_type": "markdown",
   "metadata": {},
   "source": [
    " "
   ]
  },
  {
   "cell_type": "markdown",
   "metadata": {},
   "source": [
    "#### Importing Essential Libraries"
   ]
  },
  {
   "cell_type": "code",
   "execution_count": 41,
   "metadata": {},
   "outputs": [],
   "source": [
    "import numpy as np\n",
    "import sympy as sym\n",
    "import matplotlib.pyplot as plt"
   ]
  },
  {
   "cell_type": "markdown",
   "metadata": {},
   "source": [
    "#### Defining Material and Geometric Parameters"
   ]
  },
  {
   "cell_type": "code",
   "execution_count": 2,
   "metadata": {},
   "outputs": [],
   "source": [
    "a1, a2, a3 = 1, 1, 1 # area of cross-section\n",
    "l1, l2, l3 = 1, 1, 2 # lengths\n",
    "e1, e2, e3 = 1, 2, 1 # elasticity"
   ]
  },
  {
   "cell_type": "markdown",
   "metadata": {},
   "source": [
    "#### Element Stiffness Matrices \n",
    "\n",
    "$$ K =\\frac{AE}{L}\\left[\\begin{array}{cc}\n",
    "1 & -1 \\\\\n",
    "-1 & 1\n",
    "\\end{array}\\right] $$"
   ]
  },
  {
   "cell_type": "code",
   "execution_count": 34,
   "metadata": {},
   "outputs": [],
   "source": [
    "k1 = a1*e1/l1*np.array([[1, -1], \n",
    "                        [-1, 1]])\n",
    "\n",
    "k2 = a2*e2/l2*np.array([[1, -1], \n",
    "                        [-1, 1]])\n",
    "\n",
    "k3 = a3*e3/l3*np.array([[1, -1], \n",
    "                        [-1, 1]])\n",
    "\n",
    "# print(k1, k2, k3)"
   ]
  },
  {
   "cell_type": "markdown",
   "metadata": {},
   "source": [
    "#### Combine the element stiffness matrices in one single 3-D matrix for easy parsing"
   ]
  },
  {
   "cell_type": "code",
   "execution_count": 36,
   "metadata": {},
   "outputs": [],
   "source": [
    "K = np.array([k1,k2,k3])"
   ]
  },
  {
   "cell_type": "markdown",
   "metadata": {},
   "source": [
    "#### Define the connectivity between nodes for each element"
   ]
  },
  {
   "cell_type": "code",
   "execution_count": null,
   "metadata": {},
   "outputs": [],
   "source": [
    "nel = 3 # no: of elements\n",
    "conn = np.array([[1, 3],[1, 3],[3, 2]])"
   ]
  },
  {
   "cell_type": "markdown",
   "metadata": {},
   "source": [
    "#### Assembling and forming the global stiffness matrix $K_G$"
   ]
  },
  {
   "cell_type": "code",
   "execution_count": 38,
   "metadata": {},
   "outputs": [],
   "source": [
    "K_G = np.zeros([3, 3])\n",
    "\n",
    "for n in range(nel):\n",
    "    c = conn[n]\n",
    "    k_el = K[n,:]\n",
    "    p = 0\n",
    "    for i in c:\n",
    "        q = 0\n",
    "        for j in c:\n",
    "            K_G[i-1,j-1] += k_el[p,q]\n",
    "            q += 1\n",
    "        p += 1\n",
    "\n",
    "# print(K_G)"
   ]
  },
  {
   "cell_type": "markdown",
   "metadata": {},
   "source": [
    "#### Define Global force vector and displacement vector using Sympy symbols\n",
    "\n",
    "Represent the reactions at end points by $r_1, r_2$. Displacement at the third node by $u_3$"
   ]
  },
  {
   "cell_type": "code",
   "execution_count": 49,
   "metadata": {},
   "outputs": [],
   "source": [
    "r1, r2, u3 = sym.symbols('r1 r2 u3')\n",
    "\n",
    "F_G = np.array([r1, r2, 5])\n",
    "U_G = np.array([0, 0, u3])\n"
   ]
  },
  {
   "cell_type": "markdown",
   "metadata": {},
   "source": [
    "#### Solve the system using the linear equation $$K_GU_G = F_G$$"
   ]
  },
  {
   "cell_type": "code",
   "execution_count": 52,
   "metadata": {
    "scrolled": true
   },
   "outputs": [
    {
     "name": "stdout",
     "output_type": "stream",
     "text": [
      "{r1: -4.28571428571429, r2: -0.714285714285714, u3: 1.42857142857143}\n"
     ]
    }
   ],
   "source": [
    "solve = sym.solve(K_G@U_G - F_G)\n",
    "print(solve)"
   ]
  },
  {
   "cell_type": "markdown",
   "metadata": {},
   "source": [
    "which gives the unknown values "
   ]
  }
 ],
 "metadata": {
  "kernelspec": {
   "display_name": "Python 3",
   "language": "python",
   "name": "python3"
  },
  "language_info": {
   "codemirror_mode": {
    "name": "ipython",
    "version": 3
   },
   "file_extension": ".py",
   "mimetype": "text/x-python",
   "name": "python",
   "nbconvert_exporter": "python",
   "pygments_lexer": "ipython3",
   "version": "3.6.7"
  }
 },
 "nbformat": 4,
 "nbformat_minor": 4
}
