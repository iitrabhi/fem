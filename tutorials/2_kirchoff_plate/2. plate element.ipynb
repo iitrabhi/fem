{
 "cells": [
  {
   "cell_type": "markdown",
   "metadata": {},
   "source": [
    "# 2. Plate Element"
   ]
  },
  {
   "cell_type": "markdown",
   "metadata": {},
   "source": [
    "This study will give an introductory idea about the usage of thin plate bending elements in the context of FEM. This will be beneficial in meshing and analyzing surface and solid structures idealized as thin plates. The _Kirchoff-Love plate theory_ is used as the basis to develop this study. \n",
    "\n",
    "Students with a basic background of Mechanics of Solids and Finite Element Methods can utilize this to develop their understanding of the use of plate elements in FEM. This chapter will comprise a brief of the following topics \n",
    "\n",
    "* Theory of plate bending\n",
    "* Differential Equation of thin plate bending\n",
    "* Analytical Solution of a plate structure\n",
    "* Plate bending element(s) in FEM\n",
    "* FEniCS impleementation of Plate bending"
   ]
  },
  {
   "cell_type": "markdown",
   "metadata": {},
   "source": [
    "### 2.1 Theory of plate bending"
   ]
  },
  {
   "cell_type": "markdown",
   "metadata": {},
   "source": [
    "Plates are structures with flat,noncurved surfaces whose thickness is usually is very less compared to lateral dimensions. Plates are generally subjected to transverse loading and they resist the loading by bending in both planar directions and through twisting. They can be considered the two-dimensional extension of a beam in simple bending. Plates provide axial and flexural rigidity and are used to design floor slabs, bridge decks, aircraft structures etc.. \n",
    "\n",
    "<!-- ![plate](plate.png) -->\n",
    "<img src=\"plate.png\" alt=\"plate\" width=\"400\"/>\n",
    "\n",
    "There are essentially 2 different schools of plate theory :\n",
    "\n",
    "1. **Classical Plate Theory (Kirchoff-Love Plate Theory)** - This theory is used to describe thin plates with small or large deformation. It doesn't consider shear deformation in plates and is thus an extension of Euler-Bernoulli beam theory to plates. \n",
    "\n",
    "\n",
    "2. **Shear Deformation Theory (Reissner-Mindlin Plate Theory)** - This theory describes thick plates (h > $\\frac{1}{10}$ th of larger dimension). As the name indicates, it consider shear deformation in plates under loading and is therefore an extension of the Timoshenko beam theory to plates. \n",
    "\n",
    "\n"
   ]
  },
  {
   "cell_type": "markdown",
   "metadata": {},
   "source": [
    "### 2.2 Kirchoff-Love thin plate\n",
    "\n",
    "<img src=\"plate_section.png\" alt=\"plate_section\" width=\"350\"/>\n",
    "\n",
    "**Assumptions**\n",
    "* The line normal to the neutral axis before bending remains straight after bending\n",
    "* The normal stress in thickness direction is neglected. i.e., $\\sigma_z=0$ . This assumption converts the 3D problem into a 2D problem. \n",
    "* The transverse shearing strains are assumed to be zero. i.e., shear strains $\\gamma_{xz}$ and $\\gamma_{yz}$ will be zero. Thus, thickness of the plate does not change during bending.\n",
    "\n",
    "Consider a slightly bent thin plate with no in-plane forces. Let $w$ be the vertical deflection of the mid-plane. If $E$ is the elasticity, $\\nu$ is the Poisson's ration, $h$ is the thickness of the plate, and $q(x,y)$ is the transverse loading distribution over the plate, then the governing differential equation of the plate is given by :\n",
    "\n",
    "\\begin{equation}\n",
    "\\begin{split}\n",
    "D\\left(\\frac{\\partial^{4} w}{\\partial x^{4}}+2 \\frac{\\partial^{4} w}{\\partial x^{2} \\partial y^{2}}+\\frac{\\partial^{4} w}{\\partial y^{4}}\\right) &= q(x, y) \\\\ \\\\ D \\nabla^{4} w &= q(x, y)\n",
    "\\end{split}\n",
    "\\end{equation}\n",
    "\n",
    "where $D = \\frac{E h^{3}}{12\\left(1-\\nu^{2}\\right)} $. The bending and twisting moments as well as forces developed in the plate are illustrated and formulated below. \n",
    "\n",
    "<img src=\"plate_bending.png\" alt=\"plate_bending\" width=\"300\"/>\n",
    "\n",
    "$$\n",
    "\\begin{aligned}\n",
    "&M_{x}=-D\\left\\{\\frac{\\partial^{2} w}{\\partial x^{2}}+v \\frac{\\partial^{2} w}{\\partial y^{2}}\\right\\} & \\frac{\\partial M_{x}}{\\partial x}+\\frac{\\partial M_{x y}}{\\partial y}=Q_{x} \\\\\n",
    "&M_{y}=-D\\left\\{\\frac{\\partial^{2} w}{\\partial y^{2}}+v \\frac{\\partial^{2} w}{\\partial x^{2}}\\right\\} & \\frac{\\partial M_{y}}{\\partial y}+\\frac{\\partial M_{y x}}{\\partial x}=Q_{y} \\\\\n",
    "&M_{x y}=-D (1-v) \\frac{\\partial^{2} w}{\\partial x \\partial y}\n",
    "\\end{aligned}\n",
    "$$"
   ]
  },
  {
   "cell_type": "markdown",
   "metadata": {},
   "source": [
    "### 2.3 Analytical solution with example\n",
    "\n",
    "Analytical/exact solutions are usually difficult to attain for plate problems unless the problem statement satisfy specific boundary conditions and the differential equations together. **Navier's** and **Levy's** are two of the most common analytical solution methods for plates. \n",
    "\n",
    "Here, we try to compute the analytical solution of a _Rectangular plate fixed at all boundaries with uniform pressure acting on the top_. The parameters are as follows :\n",
    "* $a = b = 1 \\ unit$ \n",
    "* $h = 0.001 \\ unit$\n",
    "* $q(x,y) = 1 \\ unit$\n",
    "* $\\nu = 0.3, \\ E = 10920 \\ unit $\n",
    "<!-- <img src=\"plate_problem.png\" alt=\"plate_problem\" width=\"300\"/> -->\n",
    "\n",
    "**Solution**\n",
    "\n",
    "Boundary conditions are a combination of \n",
    "$w=0$ and $\\frac{\\partial w}{\\partial \\mathrm{n}}=0 $ along all edges\n",
    "\n",
    "Using a trigonometric series [[1]](https://www.researchgate.net/publication/267078798_An_exact_solution_for_the_deflection_of_a_clamped_rectangular_plate_under_uniform_load), the centre point deflection can be obtained as \n",
    "\n",
    "$$w_{\\mathrm{x}=0 \\atop \\mathrm{y}=0}=\\alpha \\frac{\\mathrm{p} \\mathrm{b}^{4}}{\\mathrm{D}}$$\n",
    "\n",
    "where $\\alpha$ is obtained from [[1]](https://www.researchgate.net/publication/267078798_An_exact_solution_for_the_deflection_of_a_clamped_rectangular_plate_under_uniform_load) such that $\\alpha = 0.00126725$ and $D = 10^{-6}$ \n",
    "\n",
    "Substituting the values, the exact deflection at the plate centre, $w = 1267.25 \\ units$"
   ]
  },
  {
   "cell_type": "markdown",
   "metadata": {},
   "source": [
    "### 2.3 Weak form of plate equation"
   ]
  },
  {
   "cell_type": "markdown",
   "metadata": {},
   "source": [
    "### 2.4 Plate elements in FEM \n",
    "\n",
    "Like the 2D solid element, a plate element can also be triangular, rectangular or quadrilateral in shape. 3-noded triangular and 4-noded quadrilateral/rectuangular elements are generally considered. For thin-plate modelling, we take ___3 degrees of freedom per node___ which are :\n",
    "\n",
    "* a transverse displacement $w$ in the z-direction (out of plane translation)\n",
    "* a rotation $\\theta_x = \\frac{\\partial w}{\\partial y}$ in the x-direction (in-plane rotation)\n",
    "* a rotation $\\theta_y = -\\frac{\\partial w}{\\partial x}$ in the y-direction (in-plane rotation)\n",
    "\n",
    "<img src=\"plate_element.png\" alt=\"plate_element\" width=\"400\"/>\n",
    "\n",
    "So the $i^{th}$ nodal displacement vector will be $\n",
    "\\{d\\}=\\left\\{\\begin{array}{l}\n",
    "w_{i} \\\\\n",
    "\\theta_{x i} \\\\\n",
    "\\theta_{y i}\n",
    "\\end{array}\\right\\}\n",
    "$"
   ]
  },
  {
   "cell_type": "markdown",
   "metadata": {},
   "source": [
    "#### 2.4.1 Triangular plate element\n",
    "\n",
    "<img src=\"triangle_element.png\" alt=\"triangle_element\" width=\"400\"/>\n",
    "\n",
    "Consider the 3=noded triangular element as above, numbered clockwise. We assume that $w(x,y)$ is some function over the plate geometry. A general quartic polynomial expression for $w(x,y)$ can be written as\n",
    "\n",
    "\\begin{equation}\n",
    "\\begin{aligned}\n",
    "&w(x, y)=\\alpha_{0}+\\alpha_{1} x+\\alpha_{2} y+\\alpha_{3} x^{2}+\\alpha_{4} x y+\\alpha_{5} y^{2}+\\alpha_{6} x^{3}+\\alpha_{7}\\left(x^{2} y+x y^{2}\\right)+\\alpha_{8} y^{3} \\\\\n",
    "\\text{which gives} \\\\\n",
    "&\\theta_{x}=\\frac{\\partial w}{\\partial y}=\\alpha_{2}+\\alpha_{4} x+2 \\alpha_{5} y+\\alpha_{7}\\left(x^{2}+2 x y\\right)+3 \\alpha_{8} y^{2} \\\\\n",
    "&\\theta_{y}=-\\frac{\\partial w}{\\partial x}=-\\alpha_{1}-2 \\alpha_{3} x-\\alpha_{4} y-3 \\alpha_{6} x^{2}-\\alpha_{7}\\left(2 x y+y^{2}\\right)\n",
    "\\end{aligned}\n",
    "\\end{equation}"
   ]
  },
  {
   "cell_type": "markdown",
   "metadata": {},
   "source": [
    "**In matrix form**\n",
    "\\begin{equation}\n",
    "\\begin{split}\n",
    "\\left\\{\\begin{array}{l}\n",
    "w \\\\\n",
    "\\theta_{x} \\\\\n",
    "\\theta_{y}\n",
    "\\end{array}\\right\\}&=\\left[\\begin{array}{ccccccccc}\n",
    "1 & x & y & x^{2} & x y & y^{2} & x^{3} & \\left(x^{2} y+x y^{2}\\right) & y^{3} \\\\\n",
    "0 & 0 & 1 & 0 & x & 2 y & 0 & \\left(x^{2}+2 x y\\right) & 3 y^{2} \\\\\n",
    "0 & -1 & 0 & -2 x & -y & 0 & -3 x^{2} & -\\left(2 x y+y^{2}\\right) & 0\n",
    "\\end{array}\\right]\\left\\{\\begin{array}{l}\n",
    "\\alpha_{0} \\\\\n",
    "\\alpha_{1} \\\\\n",
    "\\alpha_{2} \\\\\n",
    "\\alpha_{3} \\\\\n",
    "\\alpha_{4} \\\\\n",
    "\\alpha_{5} \\\\\n",
    "\\alpha_{6} \\\\\n",
    "\\alpha_{7} \\\\\n",
    "\\alpha_{8}\n",
    "\\end{array}\\right\\} \\\\\n",
    "\\implies \\ \\{u\\} &= [P]\\{\\alpha\\}  \n",
    "\\end{split}\n",
    "\\end{equation}\n",
    "\n",
    "Similarly at each node point, \n",
    "\\begin{equation}\n",
    "\\begin{split}\n",
    "\\left\\{\\begin{array}{c}\n",
    "w_{1} \\\\\n",
    "\\theta_{x 1} \\\\\n",
    "\\theta_{y 1} \\\\\n",
    "w_{2} \\\\\n",
    "\\theta_{x 2} \\\\\n",
    "\\theta_{y 2} \\\\\n",
    "w_{3} \\\\\n",
    "\\theta_{x 3} \\\\\n",
    "\\theta_{y 3}\n",
    "\\end{array}\\right\\}&=\\left[\\begin{array}{ccccccccc}\n",
    "1 & 0 & 0 & 0 & 0 & 0 & 0 & 0 & 0 \\\\\n",
    "0 & 0 & 1 & 0 & 0 & 0 & 0 & 0 & 0 \\\\\n",
    "0 & -1 & 0 & 0 & 0 & 0 & 0 & 0 & 0 \\\\\n",
    "1 & 0 & y_{2} & 0 & 0 & y_{2}^{2} & 0 & 0 & y_{2}^{3} \\\\\n",
    "0 & 0 & 1 & 0 & 0 & 2 y_{2} & 0 & 0 & 3 y_{2}^{2} \\\\\n",
    "0 & -1 & 0 & 0 & -y_{2} & 0 & 0 & -y_{2}^{2} & 0 \\\\\n",
    "1 & x_{3} & y_{3} & x_{3}^{2} & x_{3} y_{3} & y_{3}^{2} & x_{3}^{3} & \\left(x_{3}^{2} y_{3}+x_{3} y_{3}^{2}\\right) & y_{3}^{2} \\\\\n",
    "0 & 0 & 1 & 0 & x_{3} & -2 y_{3} & 0 & \\left(2 x_{3} y_{3}+x_{3}^{2}\\right) & 3 y_{3}^{2} \\\\\n",
    "0 & -1 & 0 & -2 x_{3} & -y_{3} & 0 & 3 x_{3}^{2} & \\left(-y_{3}^{2}+2 x_{3} y_{3}\\right) & 0\n",
    "\\end{array}\\right]\\left\\{\\begin{array}{c}\n",
    "\\alpha_{0} \\\\\n",
    "\\alpha_{1} \\\\\n",
    "\\alpha_{2} \\\\\n",
    "\\alpha_{3} \\\\\n",
    "\\alpha_{4} \\\\\n",
    "\\alpha_{5} \\\\\n",
    "\\alpha_{6} \\\\\n",
    "\\alpha_{7} \\\\\n",
    "\\alpha_{8}\n",
    "\\end{array}\\right\\} \\\\ \\\\\n",
    "\\implies \\ \\ \\{d\\} &= [C]\\{\\alpha\\} \\\\\n",
    "i.e \\ \\{\\alpha\\} &= [C]^{-1}\\{d\\} \\\\ \\\\\n",
    "\\therefore \\{u\\} &= [P][C]^{-1}\\{d\\} \\\\\n",
    "\\{u\\} &= [N]\\{d\\} \\\\ \\\\\n",
    "\\text{where $[N]$ is the shape function matrix}\n",
    "\\end{split}\n",
    "\\end{equation}"
   ]
  },
  {
   "cell_type": "markdown",
   "metadata": {},
   "source": [
    " Similarly, curvature matrix can be written as \n",
    "\\begin{equation}\n",
    "\\begin{split}\n",
    "\\left\\{\\begin{array}{c}\n",
    "\\chi_{x} \\\\\n",
    "\\chi_{y} \\\\\n",
    "\\chi_{x y}\n",
    "\\end{array}\\right\\}=\\left\\{\\begin{array}{r}\n",
    "-\\frac{\\partial^{2} w}{\\partial x^{2}} \\\\\n",
    "-\\frac{\\partial^{2} w}{\\partial y^{2}} \\\\\n",
    "\\frac{2 \\partial^{2} w}{\\partial x \\partial y}\n",
    "\\end{array}\\right\\} &=\\left[\\begin{array}{ccccccccc}\n",
    "0 & 0 & 0 & -2 & 0 & 0 & -6 x & -2 y & 0 \\\\\n",
    "0 & 0 & 0 & 0 & 0 & -2 & 0 & -2 x & -6 y \\\\\n",
    "0 & 0 & 0 & 0 & 2 & 0 & 0 & 4(x+y) & 0\n",
    "\\end{array}\\right]\\left\\{\\begin{array}{c}\n",
    "\\alpha_{0} \\\\\n",
    "\\alpha_{1} \\\\\n",
    "\\alpha_{2} \\\\\n",
    "\\alpha_{3} \\\\\n",
    "\\alpha_{4} \\\\\n",
    "\\alpha_{5} \\\\\n",
    "\\alpha_{6} \\\\\n",
    "\\alpha_{7} \\\\\n",
    "\\alpha_{8}\n",
    "\\end{array}\\right\\} \\\\ \n",
    "\\implies \\ \\{\\chi\\} &= [Q]\\{\\alpha\\} \\\\ \\\\\n",
    "\\text{Substituting for $\\{\\alpha\\}$} \\\\\n",
    "\\{\\chi\\} &= [Q][C]^{-1}\\{d\\} \\\\\n",
    "\\{\\chi\\} &= [B]\\{d\\} \\\\ \\\\\n",
    "\\text{where $[B]$ is the strain-displacement matrix}\n",
    "\\end{split}\n",
    "\\end{equation}"
   ]
  },
  {
   "cell_type": "markdown",
   "metadata": {},
   "source": [
    "**Element Stiffness Matrix**\n",
    "\n",
    "The stiffness matrix is given by the usually form of the stiffness matrix as:\n",
    "\n",
    "$$[k]=\\iint[B]^{T}[D][B] d x d y $$\n",
    "\n",
    "The stiffness matrix for the three-node triangular element is of $9 \\times 9$\n",
    "\n",
    "**Element Force Vector**\n",
    "\n",
    "The surface force due to distributed loading q acting per unit area in the z direction is:\n",
    "\n",
    "$$\\{F\\}=\\iint\\left[N\\right]^{T} q(x,y) d x d y$$"
   ]
  },
  {
   "cell_type": "markdown",
   "metadata": {},
   "source": [
    "#### 2.4.2 Quadrilateral/Rectangular plate element\n",
    "\n",
    "<img src=\"rectangular_element.png\" alt=\"rectangle_element\" width=\"500\"/>\n",
    "\n",
    "The 12-term expression for the transverse displacement is given as \n",
    "\n",
    "\\begin{equation}\n",
    "\\begin{aligned}\n",
    "w(x, y)=& a_{1}+a_{2} x+a_{3} y+a_{4} x^{2}+a_{5} x y+a_{6} y^{2}+a_{7} x^{3}+a_{8} x^{2} y+a_{9} x y^{2}+a_{10} y^{3}+a_{11} x^{3} y+a_{12} x y^{3}\n",
    "\\end{aligned}\n",
    "\\end{equation}"
   ]
  },
  {
   "cell_type": "markdown",
   "metadata": {},
   "source": [
    "The procedure to derive stiffness matrix and force vector follows similar to that of the triangular element, except that the matrix size will be $12 \\times 12 $. The elemental equations are given by \n",
    "\n",
    "\\begin{equation}\n",
    "\\left\\{\\begin{array}{c}\n",
    "f_{w i} \\\\\n",
    "f_{\\theta x i} \\\\\n",
    "f_{\\theta y i} \\\\\n",
    "f_{w j} \\\\\n",
    "\\vdots \\\\\n",
    "f_{\\theta y n}\n",
    "\\end{array}\\right\\}=\\left[\\begin{array}{cccc}\n",
    "k_{11} & k_{12} & \\cdots & k_{1,12} \\\\\n",
    "k_{21} & k_{22} & \\cdots & k_{2,12} \\\\\n",
    "k_{31} & k_{32} & \\cdots & k_{3,12} \\\\\n",
    "k_{41} & k_{42} & \\cdots & k_{4,12} \\\\\n",
    "\\vdots & \\vdots & \\cdots & \\vdots \\\\\n",
    "k_{12,1} & k_{12,2} & \\cdots & k_{12,12}\n",
    "\\end{array}\\right]\\left\\{\\begin{array}{c}\n",
    "w_{i} \\\\\n",
    "\\theta_{x i} \\\\\n",
    "\\theta_{y i} \\\\\n",
    "w_{j} \\\\\n",
    "\\vdots \\\\\n",
    "\\theta_{y n}\n",
    "\\end{array}\\right\\}\n",
    "\\end{equation}"
   ]
  },
  {
   "cell_type": "markdown",
   "metadata": {},
   "source": [
    "The remaining steps of assembling the global equations, applying boundary conditions, and solving the equations for nodal displacements and slopes follow the standard procedures"
   ]
  },
  {
   "cell_type": "markdown",
   "metadata": {},
   "source": [
    "#### 2.4.3 Transformation to parent space\n",
    "\n",
    "<!-- The rotations, $\\theta_x$ and $\\theta_y$ are independent of the deflection $w$. Therefore, when it comes to interpolating the generalized displacements, the deflection and rotations can actually be interpolated separately using independent shape functions.\n",
    "\n",
    "For the four-noded rectangular plate elements, the deflection and rotations can be summed as\n",
    "\n",
    "$$w=\\sum_{i=1}^{4} N_{i} w_{i}, \\quad \\theta_{x}=\\sum_{i=1}^{4} N_{i} \\theta_{x_{i}}, \\quad \\theta_{y}=\\sum_{i=1}^{4} N_{i} \\theta_{y_{i}}$$\n",
    "\n",
    "where the shape function $N_i$ is the same as the four-node 2D solid element, i.e. -->\n",
    "\n",
    "<!-- $$N_{i}=\\frac{1}{4}\\left(1+\\xi_{i} \\xi\\right)\\left(1+\\eta_{i} \\eta\\right)$$ -->\n",
    "\n",
    "The interpolation functions for the rectangular element can be expressed compactly as\n",
    "\n",
    "$$\n",
    "\\begin{split}\n",
    "\\varphi_{i}^{e} &=g_{i 1} \\ \\ (i=1,4,7,10) \\\\ \n",
    "\\varphi_{i}^{e} &=g_{i 2} \\ \\ (i=2,5,8,11) \\\\\n",
    "\\varphi_{i}^{e} &=g_{i 3} \\ \\ (i=3,6,9,12) \\\\ \\\\\n",
    "g_{i 1} &=\\frac{1}{8}\\left(1+\\xi_{0}\\right)\\left(1+\\eta_{0}\\right)\\left(2+\\xi_{0}+\\eta_{0}-\\xi^{2}-\\eta^{2}\\right) \\\\\n",
    "g_{i 2} &=\\frac{1}{8} \\xi_{i}\\left(\\xi_{0}-1\\right)\\left(1+\\eta_{0}\\right)\\left(1+\\xi_{0}\\right)^{2} \\\\\n",
    "g_{i 3} &=\\frac{1}{8} \\eta_{i}\\left(\\eta_{0}-1\\right)\\left(1+\\xi_{0}\\right)\\left(1+\\eta_{0}\\right)^{2} \\\\ \\\\\n",
    "\\xi &=\\left(x-x_{c}\\right) / a, \\\\\n",
    "\\eta &=\\left(y-y_{c}\\right) / b, \\\\\n",
    "\\quad \\xi_{0}&=\\xi \\xi_{i}, \\\\\n",
    "\\eta_{0}&=\\eta \\eta_{i}\n",
    "\\end{split}\n",
    "$$\n",
    "\n",
    "where $2a$ and $2b$ are the sides of the rectangle, and $(x_c,y_c)$ are the global coordinates of the center of the rectangle."
   ]
  },
  {
   "cell_type": "markdown",
   "metadata": {},
   "source": [
    " "
   ]
  },
  {
   "cell_type": "markdown",
   "metadata": {},
   "source": [
    "### 2.5 FEniCS Implementation \n",
    "\n",
    "Here, we try to solve the same problem which has been solved analytically, as finite element variational statement through FEniCS. The problem statement is as follows: \n",
    "\n",
    "_Rectangular plate fixed at all boundaries with uniform pressure acting on the top_. The parameters are as follows :\n",
    "* $a = b = 1 \\ unit$ \n",
    "* $h = 0.001 \\ unit$\n",
    "* $q(x,y) = 1 \\ unit$\n",
    "* $\\nu = 0.3, \\ E = 10920 \\ unit $\n",
    "\n",
    "<img src=\"plate_contour.png\" alt=\"Plate\" width=\"400\"/>\n",
    "\n",
    "\n",
    "\n",
    "The documentation for this FE implementation can be found [here.](https://fenics-shells.readthedocs.io/en/latest/demo/kirchhoff-love-clamped/demo_kirchhoff-love-clamped.py.html)"
   ]
  },
  {
   "cell_type": "markdown",
   "metadata": {},
   "source": [
    "##### Importing Essential Libraries"
   ]
  },
  {
   "cell_type": "code",
   "execution_count": 3,
   "metadata": {},
   "outputs": [],
   "source": [
    "from dolfin import *\n",
    "from fenics_shells import *"
   ]
  },
  {
   "cell_type": "markdown",
   "metadata": {},
   "source": [
    "##### Creating a unit sized square mesh with triangular elements"
   ]
  },
  {
   "cell_type": "code",
   "execution_count": 4,
   "metadata": {},
   "outputs": [],
   "source": [
    "mesh = UnitSquareMesh(256, 256)"
   ]
  },
  {
   "cell_type": "markdown",
   "metadata": {},
   "source": [
    "##### Define Lagrangian element of order 2 and corresponding function spaces"
   ]
  },
  {
   "cell_type": "code",
   "execution_count": 5,
   "metadata": {},
   "outputs": [],
   "source": [
    "element_W = FiniteElement(\"Lagrange\", triangle,  2)\n",
    "W = FunctionSpace(mesh, element_W)"
   ]
  },
  {
   "cell_type": "code",
   "execution_count": 6,
   "metadata": {},
   "outputs": [],
   "source": [
    "w_ = Function(W)\n",
    "w = TrialFunction(W)\n",
    "w_t = TestFunction(W)"
   ]
  },
  {
   "cell_type": "markdown",
   "metadata": {},
   "source": [
    "##### Define Material properties "
   ]
  },
  {
   "cell_type": "code",
   "execution_count": 7,
   "metadata": {},
   "outputs": [],
   "source": [
    "E = Constant(10920)\n",
    "nu = Constant(0.3)\n",
    "t = Constant(0.001)"
   ]
  },
  {
   "cell_type": "markdown",
   "metadata": {},
   "source": [
    "##### Define rotation with respect to deflection $ \\theta = \\nabla w$"
   ]
  },
  {
   "cell_type": "code",
   "execution_count": 8,
   "metadata": {},
   "outputs": [],
   "source": [
    "theta = grad(w_)"
   ]
  },
  {
   "cell_type": "markdown",
   "metadata": {},
   "source": [
    "##### bending tensor $k=\\frac{1}{2}\\left(\\nabla \\theta+(\\nabla \\theta)^{T}\\right)$"
   ]
  },
  {
   "cell_type": "code",
   "execution_count": 9,
   "metadata": {},
   "outputs": [],
   "source": [
    "k = variable(sym(grad(theta)))"
   ]
  },
  {
   "cell_type": "markdown",
   "metadata": {},
   "source": [
    "##### calculate the bending energy density\n",
    "\n",
    "$$\\psi_b(k)= \\frac{1}{2}D\\ ((1-\\nu) \\ tr(k^2)+ \\ \\nu(tr\\ k)^2) $$"
   ]
  },
  {
   "cell_type": "code",
   "execution_count": 10,
   "metadata": {},
   "outputs": [],
   "source": [
    "D = (E*t**3)/(24.0*(1.0 - nu**2))\n",
    "psi_M = D*((1.0 - nu)*tr(k*k) + nu*(tr(k))**2)"
   ]
  },
  {
   "cell_type": "markdown",
   "metadata": {},
   "source": [
    "##### moment tensor, $M=\\frac{\\partial \\psi_{M}}{\\partial k}$"
   ]
  },
  {
   "cell_type": "code",
   "execution_count": 11,
   "metadata": {},
   "outputs": [],
   "source": [
    "M = diff(psi_M, k)"
   ]
  },
  {
   "cell_type": "code",
   "execution_count": 12,
   "metadata": {},
   "outputs": [],
   "source": [
    "alpha = E*t**3\n",
    "h = CellDiameter(mesh)\n",
    "h_avg = (h('+') + h('-'))/2.0 "
   ]
  },
  {
   "cell_type": "code",
   "execution_count": 13,
   "metadata": {},
   "outputs": [],
   "source": [
    "n = FacetNormal(mesh)\n",
    "\n",
    "M_n = inner(M, outer(n, n))\n",
    "\n",
    "L_CDG = -inner(jump(theta, n), avg(M_n))*dS + \\\n",
    "           (1.0/2.0)*(alpha('+')/h_avg)*inner(jump(theta, n), jump(theta, n))*dS"
   ]
  },
  {
   "cell_type": "markdown",
   "metadata": {},
   "source": [
    "##### define Dirichlet boundary conditions on the transverse displacement field\n",
    "\n",
    "In this example all the four faces are fixed. \n",
    "Use class to define boundaries."
   ]
  },
  {
   "cell_type": "code",
   "execution_count": 14,
   "metadata": {},
   "outputs": [],
   "source": [
    "class AllBoundary(SubDomain):\n",
    "    def inside(self, x, on_boundary):\n",
    "        return on_boundary"
   ]
  },
  {
   "cell_type": "markdown",
   "metadata": {},
   "source": [
    "##### Applying dirichlet boundary condition on the transverse displacement field. "
   ]
  },
  {
   "cell_type": "code",
   "execution_count": 15,
   "metadata": {},
   "outputs": [],
   "source": [
    "all_boundary = AllBoundary()\n",
    "bcs_w = [DirichletBC(W, Constant(0.0), all_boundary)]"
   ]
  },
  {
   "cell_type": "markdown",
   "metadata": {},
   "source": [
    "##### Create a mesh function for facets and mark the boundaries with one. "
   ]
  },
  {
   "cell_type": "code",
   "execution_count": 16,
   "metadata": {},
   "outputs": [],
   "source": [
    "facet_function = MeshFunction(\"size_t\", mesh, mesh.geometry().dim() - 1)\n",
    "facet_function.set_all(0)\n",
    "all_boundary.mark(facet_function, 1)"
   ]
  },
  {
   "cell_type": "markdown",
   "metadata": {},
   "source": [
    "##### We keep $\\theta_d=0$ everywhere on the boundary"
   ]
  },
  {
   "cell_type": "code",
   "execution_count": 17,
   "metadata": {},
   "outputs": [],
   "source": [
    "theta_d = Constant((0.0, 0.0))"
   ]
  },
  {
   "cell_type": "markdown",
   "metadata": {},
   "source": [
    "##### effective rotation field, $ \\theta_e = \\theta - \\theta_d $"
   ]
  },
  {
   "cell_type": "markdown",
   "metadata": {},
   "source": [
    "##### weak boundary condition enforcement term\n",
    "$$\n",
    "L_{\\mathrm{BC}}(w)=\\sum_{E \\in \\mathcal{E}_{h}^{p}} \\int_{E}-\\theta_{e} \\cdot(M \\cdot(n \\otimes n))+\\frac{1}{2} \\frac{\\alpha}{h_{E}}\\left(\\theta_{e} \\cdot n\\right) \\cdot\\left(\\theta_{e} \\cdot n\\right) \\mathrm{d} s\n",
    "$$ "
   ]
  },
  {
   "cell_type": "code",
   "execution_count": 18,
   "metadata": {},
   "outputs": [],
   "source": [
    "theta_effective = theta - theta_d \n",
    "L_BC = -inner(inner(theta_effective, n), M_n)*ds(1) + \\\n",
    "        (1.0/2.0)*(alpha/h)*inner(inner(theta_effective, n), inner(theta_effective, n))*ds(1)"
   ]
  },
  {
   "cell_type": "markdown",
   "metadata": {},
   "source": [
    "##### Solving the problem"
   ]
  },
  {
   "cell_type": "markdown",
   "metadata": {},
   "source": [
    "#####  we can write out external work due to the uniform loading and f=1 and dx is a measure on the whole domain. "
   ]
  },
  {
   "cell_type": "code",
   "execution_count": 17,
   "metadata": {},
   "outputs": [],
   "source": [
    "f = Constant(1)\n",
    "W_ext = f*w_*dx"
   ]
  },
  {
   "cell_type": "markdown",
   "metadata": {},
   "source": [
    "##### We can now define our Lagrangian for the complete system and derive our Jacobian and function automatically using the standard UFL derivative() function:"
   ]
  },
  {
   "cell_type": "code",
   "execution_count": 17,
   "metadata": {},
   "outputs": [],
   "source": [
    "L = psi_M*dx - W_ext + L_CDG + L_BC\n",
    "\n",
    "F = derivative(L, w_, w_t)\n",
    "J = derivative(F, w_, w)"
   ]
  },
  {
   "cell_type": "markdown",
   "metadata": {},
   "source": [
    "##### We now assemble our system using the additional projected assembly in fenics_shells and solve the linear system of equations:"
   ]
  },
  {
   "cell_type": "code",
   "execution_count": 17,
   "metadata": {},
   "outputs": [
    {
     "name": "stdout",
     "output_type": "stream",
     "text": [
      "Calling FFC just-in-time (JIT) compiler, this may take some time.\n",
      "Calling FFC just-in-time (JIT) compiler, this may take some time.\n",
      "Calling FFC just-in-time (JIT) compiler, this may take some time.\n",
      "Calling FFC just-in-time (JIT) compiler, this may take some time.\n"
     ]
    }
   ],
   "source": [
    "A, b = assemble_system(J, -F, bcs=bcs_w)\n",
    "solver = PETScLUSolver(\"mumps\")\n",
    "solver.solve(A, w_.vector(), b)\n",
    "XDMFFile(\"output/w.xdmf\").write(w_)"
   ]
  },
  {
   "cell_type": "markdown",
   "metadata": {},
   "source": [
    "##### unit testing module\n",
    "\n",
    "np.isclose(a, b, rtol=1e-05, atol=1e-08, equal_nan=False)\n",
    "\n",
    "np.isclose returns a boolean array of where a and b are equal within the given tolerance. If both a and b are scalars, returns a single boolean value\n",
    "where\n",
    "* a, b(data type: array) are input arrays to compare.\n",
    "\n",
    "* rtol(data type: float) is the relative tolerance parameter.\n",
    "\n",
    "* atol(data type: float)is the absolute tolerance parameter.\n",
    "\n",
    "* equal_nan(data type: bool) whether to compare NaN's as equal. If True, NaN's in a will be considered equal to NaN's in b in the output array.\n",
    "\n",
    "\n",
    "np.isclose uses the following equation to test whether two floating point values are equivalent.\n",
    "$$absolute(a - b) <= (atol + rtol * absolute(b))$$\n",
    "It assumes b as the reference value.\n",
    "\n",
    "The assert keyword is used when debugging code.  \n",
    "The assert keyword lets you test if a condition in your code returns True, if not, the program will raise an AssertionError."
   ]
  },
  {
   "cell_type": "code",
   "execution_count": 18,
   "metadata": {},
   "outputs": [],
   "source": [
    "def test_close():\n",
    "    import numpy as np\n",
    "    assert(np.isclose(w_((0.5, 0.5)), 1.265E-6, atol=1E-3, rtol=1E-3))"
   ]
  },
  {
   "cell_type": "markdown",
   "metadata": {},
   "source": [
    "##### And finally calculate displacement at the centre of the plate"
   ]
  },
  {
   "cell_type": "code",
   "execution_count": 19,
   "metadata": {},
   "outputs": [
    {
     "data": {
      "text/plain": [
       "1265.0750190423769"
      ]
     },
     "execution_count": 19,
     "metadata": {},
     "output_type": "execute_result"
    }
   ],
   "source": [
    "w_((0.5, 0.5))"
   ]
  },
  {
   "cell_type": "markdown",
   "metadata": {},
   "source": [
    "### References\n",
    "\n",
    "1. Reddy, J.N. (2006). Theory and Analysis of Elastic Plates and Shells (2nd ed.). CRC Press. https://doi.org/10.1201/9780849384165\n",
    "\n",
    "\n",
    "2. https://fenics-shells.readthedocs.io/en/latest/demo/kirchhoff-love-clamped/demo_kirchhoff-love-clamped.py.html\n"
   ]
  },
  {
   "cell_type": "code",
   "execution_count": null,
   "metadata": {},
   "outputs": [],
   "source": []
  }
 ],
 "metadata": {
  "kernelspec": {
   "display_name": "Python 3",
   "language": "python",
   "name": "python3"
  },
  "language_info": {
   "codemirror_mode": {
    "name": "ipython",
    "version": 3
   },
   "file_extension": ".py",
   "mimetype": "text/x-python",
   "name": "python",
   "nbconvert_exporter": "python",
   "pygments_lexer": "ipython3",
   "version": "3.6.7"
  }
 },
 "nbformat": 4,
 "nbformat_minor": 4
}
