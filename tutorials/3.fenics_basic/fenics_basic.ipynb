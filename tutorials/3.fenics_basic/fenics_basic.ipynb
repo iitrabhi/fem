{
 "cells": [
  {
   "cell_type": "markdown",
   "metadata": {},
   "source": [
    "# In this notebook, a unit square mesh is used to show some basic commands which we will be using in fenics implementation.  \n",
    "\n",
    "* Different methods to import the mesh\n",
    "* Print the cordinates, vertex, cells\n",
    "* Save dof in xdmf file \n",
    "* Visualise the cell data and point data in Paraview"
   ]
  },
  {
   "cell_type": "markdown",
   "metadata": {},
   "source": [
    "## Import dolfin module"
   ]
  },
  {
   "cell_type": "code",
   "execution_count": 1,
   "metadata": {},
   "outputs": [],
   "source": [
    "from dolfin import *\n",
    "import numpy as np"
   ]
  },
  {
   "cell_type": "markdown",
   "metadata": {},
   "source": [
    "## Next two ways of using the mesh is shown\n",
    "1. Importing mesh saved as xdmf file\n",
    "2. Using the inbuilt mesh in dolfin"
   ]
  },
  {
   "cell_type": "raw",
   "metadata": {},
   "source": [
    "mesh = Mesh()\n",
    "with XDMFFile(\"mesh/mesh/triangle.xdmf\") as infile:\n",
    "    infile.read(mesh)"
   ]
  },
  {
   "cell_type": "markdown",
   "metadata": {},
   "source": [
    "### Inbuilt mesh\n",
    "\n",
    "In FEniCS we have following built-in meshes -\n",
    "1. UnitIntervalMesh\n",
    "2. UnitSquareMesh\n",
    "3. RectangleMesh\n",
    "4. UnitCubeMesh\n",
    "5. BoxMesh\n",
    "\n",
    "- Unit Interval Mesh - `mesh = UnitIntervalMesh(N)`  \n",
    "N defines the number of parts in which it is divided.\n",
    "\n",
    "- Unit Square Mesh - `mesh = UnitSquareMesh(Nx,Ny,\"Orientation\")`  \n",
    "Nx defines the number of parts in which X-axis is divided.  \n",
    "Ny defines the number of parts in which Y-axis is divided.  \n",
    "\"Orientation\"defines the orientation of the diagonal it can be *left*, *right*, *left/right* and *crossed* . It is optional.\n",
    "\n",
    "- RectangleMesh - `mesh = RectangleMesh(Point(x0, y0), Point(x1, y1), Nx, Ny, \"Orientation\")`  \n",
    "x0,y0,x1 and y1 represents the coordinates of the two extreme points in the principal diagonal of the rectangle.\n",
    "Nx, Ny and \"Orinetation\" holds the same meaning as above.\n",
    "\n",
    "- Unit Cube Mesh - `UnitCubeMesh(Nx, Ny, Nz)`  \n",
    "Nx,Ny and Nz holds the same meaning as above stated.  \n",
    "\n",
    "- Box Mesh - `mesh = BoxMesh(Point(x0, y0, z0), Point(x1, y1, z1), Nx, Ny, Nz)`  \n",
    "x0,y0,z0,x1,x2 and x3 defines the coordinates of the two extreme points of the principal diagonal of the box/cuboid.  \n",
    "Nx,Ny and Nz holds the same meaning as above stated.\n",
    "\n",
    "\n",
    "\n",
    "\n"
   ]
  },
  {
   "cell_type": "raw",
   "metadata": {},
   "source": [
    "mesh = UnitIntervalMesh(10)\n",
    "print( \"Plotting a UnitIntervalMesh\")\n",
    "plot(mesh, title=\"UnitIntervalMesh\")"
   ]
  },
  {
   "cell_type": "code",
   "execution_count": 2,
   "metadata": {},
   "outputs": [
    {
     "name": "stdout",
     "output_type": "stream",
     "text": [
      "Plotting a UnitSquareMesh\n"
     ]
    },
    {
     "data": {
      "text/plain": [
       "[<matplotlib.lines.Line2D at 0x7f8e0edf4278>,\n",
       " <matplotlib.lines.Line2D at 0x7f8e0ee08908>]"
      ]
     },
     "execution_count": 2,
     "metadata": {},
     "output_type": "execute_result"
    }
   ],
   "source": [
    "mesh = UnitSquareMesh(1, 1,\"left\")\n",
    "print(\"Plotting a UnitSquareMesh\")\n",
    "plot(mesh, title=\"Unit square \")"
   ]
  },
  {
   "cell_type": "raw",
   "metadata": {},
   "source": [
    "mesh = UnitSquareMesh(10, 10, \"crossed\")\n",
    "print(\"Plotting a UnitSquareMesh\")\n",
    "plot(mesh, title=\"Unit square (crossed)\")"
   ]
  },
  {
   "cell_type": "raw",
   "metadata": {},
   "source": [
    "mesh = UnitSquareMesh(10, 10, \"right/left\")\n",
    "print(\"Plotting a UnitSquareMesh\")\n",
    "plot(mesh, title=\"Unit square (right/left)\")"
   ]
  },
  {
   "cell_type": "markdown",
   "metadata": {},
   "source": [
    "**The difference in \"right/left\" and \"crossed\" is that in the former one the meshes are prdocues alternatively right and left, whereas in the later one, both the diagonals are present in the each cell.**"
   ]
  },
  {
   "cell_type": "raw",
   "metadata": {},
   "source": [
    "mesh = RectangleMesh(Point(0.0, 0.0), Point(10.0, 4.0), 10, 10)\n",
    "print(\"Plotting a RectangleMesh\")\n",
    "plot(mesh, title=\"Rectangle\")"
   ]
  },
  {
   "cell_type": "raw",
   "metadata": {
    "tags": []
   },
   "source": [
    "mesh = RectangleMesh(Point(-3.0, 2.0), Point(7.0, 6.0), 10, 10, \"right/left\")\n",
    "print(\"Plotting a RectangleMesh\")\n",
    "plot(mesh, title=\"Rectangle (right/left)\")"
   ]
  },
  {
   "cell_type": "raw",
   "metadata": {},
   "source": [
    "mesh = UnitCubeMesh(10, 10, 10)\n",
    "print(\"Plotting a UnitCubeMesh\")\n",
    "plot(mesh, title=\"Unit cube\")"
   ]
  },
  {
   "cell_type": "raw",
   "metadata": {},
   "source": [
    "mesh = BoxMesh(Point(0.0, 0.0, 0.0), Point(10.0, 4.0, 2.0), 10, 10, 10)\n",
    "print(\"Plotting a BoxMesh\")\n",
    "plot(mesh, title=\"Box\")"
   ]
  },
  {
   "cell_type": "markdown",
   "metadata": {},
   "source": [
    "### Create the vector function space in mesh \n",
    "\n",
    "To define the properties of mesh including the shape function(or element family) and degree of freedom, we use `VectorFunctionSpace`. Vector function space represents that the dof per nod is 2  \n",
    "`V = VectorFunctionSpace(mesh, 'Element family', degree=x)`  \n",
    "here `Element Family` - `'CG'`, `'DG'`, `'R'`, `'Q'` etc. which denotes Lagrange, Discontinuous Lagrange, Real, Quadrature respectively.  \n",
    "`x` is the degree of element which can be 0, 1, 2 etc.  \n",
    "\n",
    "One can also [refer](https://computationalmechanics.in/data-structure-of-fem-in-fenics/) this to know more about this"
   ]
  },
  {
   "cell_type": "code",
   "execution_count": 3,
   "metadata": {},
   "outputs": [],
   "source": [
    "V = VectorFunctionSpace(mesh, 'Lagrange', degree=1)"
   ]
  },
  {
   "cell_type": "markdown",
   "metadata": {},
   "source": [
    "### DOF to vertex map\n",
    "\n",
    "This helps to plot the dof of all corresponding vertices. We are using the `reshape` function so as to modify the dimension."
   ]
  },
  {
   "cell_type": "code",
   "execution_count": 4,
   "metadata": {},
   "outputs": [
    {
     "name": "stdout",
     "output_type": "stream",
     "text": [
      "[6 7 2 3 4 5 0 1]\n"
     ]
    }
   ],
   "source": [
    "v2d=vertex_to_dof_map(V)\n",
    "print(v2d)\n",
    "v2d = v2d.reshape((-1, mesh.geometry().dim()))"
   ]
  },
  {
   "cell_type": "code",
   "execution_count": 5,
   "metadata": {},
   "outputs": [
    {
     "data": {
      "text/plain": [
       "array([[6, 7],\n",
       "       [2, 3],\n",
       "       [4, 5],\n",
       "       [0, 1]], dtype=int32)"
      ]
     },
     "execution_count": 5,
     "metadata": {},
     "output_type": "execute_result"
    }
   ],
   "source": [
    "v2d"
   ]
  },
  {
   "cell_type": "code",
   "execution_count": 6,
   "metadata": {},
   "outputs": [],
   "source": [
    "num_dof = mesh.num_vertices()*V.dofmap().num_entity_dofs(0)\n",
    "dof_map = Function(V,name=\"dof\")\n",
    "dof_map.vector()[:] = [int(i) for i in np.linspace(0,num_dof-1,num_dof)]"
   ]
  },
  {
   "cell_type": "markdown",
   "metadata": {},
   "source": [
    "### Save the dof in a xdmf file which can be visualised in Paraview\n",
    "Sometimes for complex shape with very large number of elements, it becomes extremely difficult to understand the dof for various vertex, therefore in such cases the file is exported in .xdmf format which can be visulized in Paraview.\n",
    "The written command generates the `dof.xdmf` file.\n",
    "* Press V to visualise the cell and point data correspondng to a specific dof. (in Paraview)"
   ]
  },
  {
   "cell_type": "code",
   "execution_count": 7,
   "metadata": {},
   "outputs": [],
   "source": [
    "with XDMFFile(\"dof.xdmf\") as xdmf:\n",
    "    xdmf.write(dof_map)"
   ]
  },
  {
   "cell_type": "markdown",
   "metadata": {},
   "source": [
    "Additionally one can also check number of vertices,cells and edges etc., mesh cell vertices, dof coordinates with the following commands- \n",
    "`print(dof_map.vector()[:])` - prints dof of the mesh in vector form (in general, we prefer the array form)  \n",
    "`print(mesh.cells())` - prints the list of vertices for differents cells  \n",
    "`V.tabulate_dof_coordinates()` - prints the dof of the the coordinates.  \n",
    "`mesh.coordinates()` - prints the coordinates of the vertices.  \n",
    "`mesh.num_cells()` - prints the number of cells in the mesh  \n",
    "`mesh.num_edges()` - prints the number of edges in the mesh  \n",
    "`mesh.num_vertices()` - prints the number of vertices in the mesh  \n",
    "\n",
    "If one wishes to plot vertices corresponding to different edges, triangle (for 2D) , tetrahedrons (for 3D), then following commands can be used."
   ]
  },
  {
   "cell_type": "code",
   "execution_count": 8,
   "metadata": {},
   "outputs": [
    {
     "name": "stdout",
     "output_type": "stream",
     "text": [
      "Edge vs Vertex\n",
      "0 \t 0 1 \n",
      "\n",
      "1 \t 0 2 \n",
      "\n",
      "2 \t 1 2 \n",
      "\n",
      "3 \t 1 3 \n",
      "\n",
      "4 \t 2 3 \n",
      "\n"
     ]
    }
   ],
   "source": [
    "# Edges vs vertices\n",
    "edge = edges(mesh)\n",
    "print(\"Edge vs Vertex\")\n",
    "for i in edge:\n",
    "    print(i.index(), \"\\t\", end =\" \")\n",
    "    for j in vertices(i):\n",
    "        print(j.index(), end =\" \")\n",
    "    print(\"\\n\")"
   ]
  },
  {
   "cell_type": "code",
   "execution_count": 9,
   "metadata": {},
   "outputs": [
    {
     "name": "stdout",
     "output_type": "stream",
     "text": [
      "Triangle vs Vertex\n",
      "0 \t [0 1 2]\n",
      "1 \t [1 2 3]\n"
     ]
    }
   ],
   "source": [
    "#Triangles vs vertices\n",
    "print(\"Triangle vs Vertex\")\n",
    "cells = mesh.cells()\n",
    "for i in range(len(cells)):\n",
    "    print(i, \"\\t\", cells[i])"
   ]
  },
  {
   "cell_type": "code",
   "execution_count": 10,
   "metadata": {},
   "outputs": [
    {
     "name": "stdout",
     "output_type": "stream",
     "text": [
      "Tetrahedra vs Vertex\n",
      "0 \t [0 1 2]\n",
      "1 \t [1 2 3]\n"
     ]
    }
   ],
   "source": [
    "#Tetraherdons vs vertices\n",
    "print(\"Tetrahedra vs Vertex\")\n",
    "cells = mesh.cells()\n",
    "for i in range(len(cells)):\n",
    "    print(i, \"\\t\", cells[i])"
   ]
  },
  {
   "cell_type": "code",
   "execution_count": 11,
   "metadata": {},
   "outputs": [
    {
     "data": {
      "text/plain": [
       "array([[0., 0.],\n",
       "       [1., 0.],\n",
       "       [0., 1.],\n",
       "       [1., 1.]])"
      ]
     },
     "execution_count": 11,
     "metadata": {},
     "output_type": "execute_result"
    }
   ],
   "source": [
    "mesh.coordinates()"
   ]
  },
  {
   "cell_type": "code",
   "execution_count": 12,
   "metadata": {},
   "outputs": [
    {
     "name": "stdout",
     "output_type": "stream",
     "text": [
      "[[0 1 2]\n",
      " [1 2 3]]\n"
     ]
    }
   ],
   "source": [
    "print(mesh.cells())"
   ]
  },
  {
   "cell_type": "code",
   "execution_count": 13,
   "metadata": {},
   "outputs": [
    {
     "data": {
      "text/plain": [
       "array([[1., 1.],\n",
       "       [1., 1.],\n",
       "       [1., 0.],\n",
       "       [1., 0.],\n",
       "       [0., 1.],\n",
       "       [0., 1.],\n",
       "       [0., 0.],\n",
       "       [0., 0.]])"
      ]
     },
     "execution_count": 13,
     "metadata": {},
     "output_type": "execute_result"
    }
   ],
   "source": [
    "V.tabulate_dof_coordinates()"
   ]
  },
  {
   "cell_type": "code",
   "execution_count": 14,
   "metadata": {},
   "outputs": [
    {
     "data": {
      "text/plain": [
       "2"
      ]
     },
     "execution_count": 14,
     "metadata": {},
     "output_type": "execute_result"
    }
   ],
   "source": [
    "mesh.num_cells()"
   ]
  },
  {
   "cell_type": "code",
   "execution_count": 15,
   "metadata": {},
   "outputs": [
    {
     "data": {
      "text/plain": [
       "5"
      ]
     },
     "execution_count": 15,
     "metadata": {},
     "output_type": "execute_result"
    }
   ],
   "source": [
    "mesh.num_edges()"
   ]
  },
  {
   "cell_type": "code",
   "execution_count": 16,
   "metadata": {
    "tags": []
   },
   "outputs": [
    {
     "data": {
      "text/plain": [
       "4"
      ]
     },
     "execution_count": 16,
     "metadata": {},
     "output_type": "execute_result"
    }
   ],
   "source": [
    "mesh.num_vertices()"
   ]
  },
  {
   "cell_type": "code",
   "execution_count": null,
   "metadata": {},
   "outputs": [],
   "source": []
  }
 ],
 "metadata": {
  "kernelspec": {
   "display_name": "Python 3",
   "language": "python",
   "name": "python3"
  },
  "language_info": {
   "codemirror_mode": {
    "name": "ipython",
    "version": 3
   },
   "file_extension": ".py",
   "mimetype": "text/x-python",
   "name": "python",
   "nbconvert_exporter": "python",
   "pygments_lexer": "ipython3",
   "version": "3.6.7"
  }
 },
 "nbformat": 4,
 "nbformat_minor": 4
}
