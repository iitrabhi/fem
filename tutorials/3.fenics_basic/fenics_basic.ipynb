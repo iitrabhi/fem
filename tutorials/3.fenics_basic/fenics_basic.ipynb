{
 "cells": [
  {
   "cell_type": "markdown",
   "metadata": {},
   "source": [
    "# In this notebook, a unit square mesh is used to show some basic commands which we will be using in fenics implementation.  \n",
    "\n",
    "* Different methods to import the mesh\n",
    "* Print the cordinates, vertex, cells\n",
    "* Save dof in xdmf file \n",
    "* Visualise the cell data and point data in Paraview"
   ]
  },
  {
   "cell_type": "markdown",
   "metadata": {},
   "source": [
    "## 1. Import dolfin module"
   ]
  },
  {
   "cell_type": "code",
   "execution_count": 17,
   "metadata": {},
   "outputs": [],
   "source": [
    "from dolfin import *\n",
    "import numpy as np"
   ]
  },
  {
   "cell_type": "markdown",
   "metadata": {},
   "source": [
    "## 2. Mesh"
   ]
  },
  {
   "cell_type": "markdown",
   "metadata": {},
   "source": [
    "## Next two ways of using the mesh is shown\n",
    "1. Importing mesh saved as xdmf file\n",
    "2. Using the inbuilt mesh in dolfin"
   ]
  },
  {
   "cell_type": "raw",
   "metadata": {},
   "source": [
    "mesh = Mesh()\n",
    "with XDMFFile(\"mesh/mesh/triangle.xdmf\") as infile:\n",
    "    infile.read(mesh)"
   ]
  },
  {
   "cell_type": "markdown",
   "metadata": {},
   "source": [
    "### Inbuilt mesh\n",
    "\n",
    "In FEniCS we have following built-in meshes -\n",
    "1. UnitIntervalMesh\n",
    "2. UnitSquareMesh\n",
    "3. RectangleMesh\n",
    "4. UnitCubeMesh\n",
    "5. BoxMesh\n",
    "\n",
    "- Unit Interval Mesh - `mesh = UnitIntervalMesh(N)`  \n",
    "N defines the number of parts in which it is divided.\n",
    "\n",
    "- Unit Square Mesh - `mesh = UnitSquareMesh(Nx,Ny,\"Orientation\")`  \n",
    "Nx defines the number of parts in which X-axis is divided.  \n",
    "Ny defines the number of parts in which Y-axis is divided.  \n",
    "\"Orientation\"defines the orientation of the diagonal it can be *left*, *right*, *left/right* and *crossed* . It is optional.\n",
    "\n",
    "- RectangleMesh - `mesh = RectangleMesh(Point(x0, y0), Point(x1, y1), Nx, Ny, \"Orientation\")`  \n",
    "x0,y0,x1 and y1 represents the coordinates of the two extreme points in the principal diagonal of the rectangle.\n",
    "Nx, Ny and \"Orinetation\" holds the same meaning as above.\n",
    "\n",
    "- Unit Cube Mesh - `UnitCubeMesh(Nx, Ny, Nz)`  \n",
    "Nx,Ny and Nz holds the same meaning as above stated.  \n",
    "\n",
    "- Box Mesh - `mesh = BoxMesh(Point(x0, y0, z0), Point(x1, y1, z1), Nx, Ny, Nz)`  \n",
    "x0,y0,z0,x1,x2 and x3 defines the coordinates of the two extreme points of the principal diagonal of the box/cuboid.  \n",
    "Nx,Ny and Nz holds the same meaning as above stated.\n",
    "\n",
    "[Reference](https://fenicsproject.org/olddocs/dolfin/2019.1.0/python/demos/built-in-meshes/demo_built-in-meshes.py.html) for reading.\n",
    "\n",
    "\n"
   ]
  },
  {
   "cell_type": "code",
   "execution_count": 22,
   "metadata": {},
   "outputs": [
    {
     "name": "stdout",
     "output_type": "stream",
     "text": [
      "Plotting a UnitIntervalMesh\n"
     ]
    },
    {
     "data": {
      "text/plain": [
       "[<matplotlib.lines.Line2D at 0x7f335cde9978>]"
      ]
     },
     "execution_count": 22,
     "metadata": {},
     "output_type": "execute_result"
    },
    {
     "data": {
      "image/png": "[encoded data removed]",
      "text/plain": [
       "<Figure size 432x288 with 1 Axes>"
      ]
     },
     "metadata": {
      "needs_background": "light"
     },
     "output_type": "display_data"
    }
   ],
   "source": [
    "mesh = UnitIntervalMesh(500)\n",
    "print( \"Plotting a UnitIntervalMesh\")\n",
    "plot(mesh, title=\"UnitIntervalMesh\")"
   ]
  },
  {
   "cell_type": "raw",
   "metadata": {},
   "source": [
    "mesh = UnitSquareMesh(1, 1,\"left\")\n",
    "print(\"Plotting a UnitSquareMesh\")\n",
    "plot(mesh, title=\"Unit square \")"
   ]
  },
  {
   "cell_type": "raw",
   "metadata": {},
   "source": [
    "mesh = UnitSquareMesh(10, 10, \"crossed\")\n",
    "print(\"Plotting a UnitSquareMesh\")\n",
    "plot(mesh, title=\"Unit square (crossed)\")"
   ]
  },
  {
   "cell_type": "raw",
   "metadata": {},
   "source": [
    "mesh = UnitSquareMesh(10, 10, \"right/left\")\n",
    "print(\"Plotting a UnitSquareMesh\")\n",
    "plot(mesh, title=\"Unit square (right/left)\")"
   ]
  },
  {
   "cell_type": "markdown",
   "metadata": {},
   "source": [
    "**The difference in \"right/left\" and \"crossed\" is that in the former one the meshes are prdocues alternatively right and left, whereas in the later one, both the diagonals are present in the each cell.**"
   ]
  },
  {
   "cell_type": "raw",
   "metadata": {},
   "source": [
    "mesh = RectangleMesh(Point(0.0, 0.0), Point(10.0, 4.0), 10, 10)\n",
    "print(\"Plotting a RectangleMesh\")\n",
    "plot(mesh, title=\"Rectangle\")"
   ]
  },
  {
   "cell_type": "raw",
   "metadata": {
    "tags": []
   },
   "source": [
    "mesh = RectangleMesh(Point(-3.0, 2.0), Point(7.0, 6.0), 10, 10, \"right/left\")\n",
    "print(\"Plotting a RectangleMesh\")\n",
    "plot(mesh, title=\"Rectangle (right/left)\")"
   ]
  },
  {
   "cell_type": "raw",
   "metadata": {},
   "source": [
    "mesh = UnitCubeMesh(10, 10, 10)\n",
    "print(\"Plotting a UnitCubeMesh\")\n",
    "plot(mesh, title=\"Unit cube\")"
   ]
  },
  {
   "cell_type": "raw",
   "metadata": {},
   "source": [
    "mesh = BoxMesh(Point(0.0, 0.0, 0.0), Point(10.0, 4.0, 2.0), 10, 10, 10)\n",
    "print(\"Plotting a BoxMesh\")\n",
    "plot(mesh, title=\"Box\")"
   ]
  },
  {
   "cell_type": "markdown",
   "metadata": {},
   "source": [
    "### Create the vector function space in mesh \n",
    "\n",
    "To define the properties of mesh including the shape function(or element family) and degree of freedom, we use `VectorFunctionSpace`. Vector function space represents that the dof per nod is 2  \n",
    "`V = VectorFunctionSpace(mesh, 'Element family', degree=x)`  \n",
    "here `Element Family` - `'CG'`, `'DG'`, `'R'`, `'Q'` etc. which denotes Lagrange, Discontinuous Lagrange, Real, Quadrature respectively.  \n",
    "`x` is the degree of element which can be 0, 1, 2 etc.  \n",
    "\n",
    "One can also [refer](https://computationalmechanics.in/data-structure-of-fem-in-fenics/) this to know more about this"
   ]
  },
  {
   "cell_type": "raw",
   "metadata": {},
   "source": [
    "V = VectorFunctionSpace(mesh, 'Lagrange', degree=1)"
   ]
  },
  {
   "cell_type": "markdown",
   "metadata": {},
   "source": [
    "### DOF to vertex map\n",
    "\n",
    "This helps to plot the dof of all corresponding vertices.`vertex_to_dof_map(V)` is the function which will give dof in vector form. We are using the `reshape` function so as to modify the output, it will produce a matrix of order $m*n$ `v2d = v2d.reshape(m, n)`  \n",
    "Here, `-1` is standard input if the number of matrix row is unknown.  \n",
    "`mesh.geometry().dim()`is the dimension of mesh geometry, here it is $2$ "
   ]
  },
  {
   "cell_type": "raw",
   "metadata": {},
   "source": [
    "v2d=vertex_to_dof_map(V)\n",
    "print(v2d)\n",
    "v2d = v2d.reshape((-1, mesh.geometry().dim()))"
   ]
  },
  {
   "cell_type": "raw",
   "metadata": {},
   "source": [
    "v2d"
   ]
  },
  {
   "cell_type": "raw",
   "metadata": {},
   "source": [
    "num_dof = mesh.num_vertices()*V.dofmap().num_entity_dofs(0)\n",
    "dof_map = Function(V,name=\"dof\")\n",
    "dof_map.vector()[:] = [int(i) for i in np.linspace(0,num_dof-1,num_dof)]"
   ]
  },
  {
   "cell_type": "markdown",
   "metadata": {},
   "source": [
    "### Save the dof in a xdmf file which can be visualised in Paraview\n",
    "Sometimes for complex shape with very large number of elements, it becomes extremely difficult to understand the dof for various vertex, therefore in such cases the file is exported in .xdmf format which can be visulized in Paraview.\n",
    "The written command generates the `dof.xdmf` file.\n",
    "* Press V to visualise the cell and point data correspondng to a specific dof. (in Paraview)"
   ]
  },
  {
   "cell_type": "raw",
   "metadata": {},
   "source": [
    "with XDMFFile(\"dof.xdmf\") as xdmf:\n",
    "    xdmf.write(dof_map)"
   ]
  },
  {
   "cell_type": "markdown",
   "metadata": {},
   "source": [
    "Additionally one can also check number of vertices,cells and edges etc., mesh cell vertices, dof coordinates with the following commands- \n",
    "`print(dof_map.vector()[:])` - prints dof of the mesh in vector form (in general, we prefer the array form)  \n",
    "`print(mesh.cells())` - prints the list of vertices for differents cells  \n",
    "`V.tabulate_dof_coordinates()` - prints the dof of the the coordinates.  \n",
    "`mesh.coordinates()` - prints the coordinates of the vertices.  \n",
    "`mesh.num_cells()` - prints the number of cells in the mesh  \n",
    "`mesh.num_edges()` - prints the number of edges in the mesh  \n",
    "`mesh.num_vertices()` - prints the number of vertices in the mesh  \n",
    "\n",
    "If one wishes to plot vertices corresponding to different edges, triangle (for 2D) , tetrahedrons (for 3D), then following commands can be used."
   ]
  },
  {
   "cell_type": "raw",
   "metadata": {},
   "source": [
    "# Edges vs vertices\n",
    "edge = edges(mesh)\n",
    "print(\"Edge vs Vertex\")\n",
    "for i in edge:\n",
    "    print(i.index(), \"\\t\", end =\" \")\n",
    "    for j in vertices(i):\n",
    "        print(j.index(), end =\" \")\n",
    "    print(\"\\n\")"
   ]
  },
  {
   "cell_type": "raw",
   "metadata": {},
   "source": [
    "#Triangles vs vertices\n",
    "print(\"Triangle vs Vertex\")\n",
    "cells = mesh.cells()\n",
    "for i in range(len(cells)):\n",
    "    print(i, \"\\t\", cells[i])"
   ]
  },
  {
   "cell_type": "raw",
   "metadata": {},
   "source": [
    "#Tetraherdons vs vertices\n",
    "print(\"Tetrahedra vs Vertex\")\n",
    "cells = mesh.cells()\n",
    "for i in range(len(cells)):\n",
    "    print(i, \"\\t\", cells[i])"
   ]
  },
  {
   "cell_type": "raw",
   "metadata": {},
   "source": [
    "mesh.coordinates()"
   ]
  },
  {
   "cell_type": "raw",
   "metadata": {},
   "source": [
    "mesh.cells()"
   ]
  },
  {
   "cell_type": "raw",
   "metadata": {},
   "source": [
    "V.tabulate_dof_coordinates()"
   ]
  },
  {
   "cell_type": "raw",
   "metadata": {},
   "source": [
    "mesh.num_cells()"
   ]
  },
  {
   "cell_type": "raw",
   "metadata": {},
   "source": [
    "mesh.num_edges()"
   ]
  },
  {
   "cell_type": "raw",
   "metadata": {
    "tags": []
   },
   "source": [
    "mesh.num_vertices()"
   ]
  },
  {
   "cell_type": "markdown",
   "metadata": {},
   "source": [
    "# In this tutorial, we show how to solve the Poisson equation in 1D\n",
    "\n",
    "$-\\frac{\\partial^{2} u}{\\partial^{2} x}=f(x) \\quad \\forall x \\in(0,1)$\n",
    "\n",
    "with homegeneuos Dirichlet boundary conditions u(0)=u(1)=0.\n",
    "\n",
    "Below we solve the problem using FEniCS for the choice $ f(x)=sin(πx)$"
   ]
  },
  {
   "cell_type": "markdown",
   "metadata": {},
   "source": [
    "## 3. FunctionSpace"
   ]
  },
  {
   "cell_type": "markdown",
   "metadata": {},
   "source": [
    "FunctionSpace is a dolfin class that constructs the finite element space. It takes as inputs the mesh, the type of finite element (CG stands for Continuous Galerkin elements), and the finite element order (in our case 1, since we are using linear finite element)."
   ]
  },
  {
   "cell_type": "code",
   "execution_count": 23,
   "metadata": {},
   "outputs": [
    {
     "name": "stdout",
     "output_type": "stream",
     "text": [
      "Number of dofs 501\n"
     ]
    }
   ],
   "source": [
    "V = FunctionSpace(mesh, 'CG', 1)\n",
    "print (\"Number of dofs\", V.dim())"
   ]
  },
  {
   "cell_type": "markdown",
   "metadata": {},
   "source": [
    "We define the right hand side of the PDE using the dolfin class Expression. This class takes as input a string that define the analytical form of the expression and the polynomial degree degree of the expression (if the expression is not a polynomial it will be interpolated). Here x[0] denotes the x coordinate of the mesh. In 2D, x[1] denotes the y coordinate of the mesh. Additional parameters can be passed to the expression. In this case we define the frequency ω=π as a parameter for the expression."
   ]
  },
  {
   "cell_type": "code",
   "execution_count": 24,
   "metadata": {},
   "outputs": [
    {
     "data": {
      "text/plain": [
       "[<matplotlib.lines.Line2D at 0x7f335dc6ffd0>]"
      ]
     },
     "execution_count": 24,
     "metadata": {},
     "output_type": "execute_result"
    },
    {
     "data": {
      "image/png": "[encoded data removed]",
      "text/plain": [
       "<Figure size 432x288 with 1 Axes>"
      ]
     },
     "metadata": {
      "needs_background": "light"
     },
     "output_type": "display_data"
    }
   ],
   "source": [
    "# Define the right hand side. \"x[0]\" denotes the space coordinate x.\n",
    "f = Expression(\"sin(omega*x[0])\", omega = pi, degree = 5)\n",
    "\n",
    "#visualize the rhs:\n",
    "plot(f,mesh=mesh, title=\"rhs\")"
   ]
  },
  {
   "cell_type": "markdown",
   "metadata": {},
   "source": [
    "We define the Dirichlet boundary condition on the u(0)=u(1)=0. The class Constant is similar Expression and it is used when we need to represent a value that is constant in space. \n",
    "As input it takes the value of the constant. \n",
    "DirichletBC is the dolfin class that is used to describe Dirichlet boundary conditions. \n",
    "It takes three inputs: the finite element space V, the expression/value of the Dirichlet boundary condition u_bc, and finally a function that returns true if the point x belongs to a portion of the Dirichlet boundary."
   ]
  },
  {
   "cell_type": "code",
   "execution_count": 26,
   "metadata": {},
   "outputs": [],
   "source": [
    "u_bc = Constant(0.)\n",
    "def dirichlet_boundary(x,on_boundary):\n",
    "    return on_boundary\n",
    "bcs = [DirichletBC(V, u_bc, dirichlet_boundary)]"
   ]
  },
  {
   "cell_type": "raw",
   "metadata": {},
   "source": [
    "***gmsh marking and compiled sub domain"
   ]
  },
  {
   "cell_type": "markdown",
   "metadata": {
    "tags": []
   },
   "source": [
    "## 4. Define the weak form"
   ]
  },
  {
   "cell_type": "markdown",
   "metadata": {},
   "source": [
    "We now write the weak form of the Poisson equation:\n",
    "\n",
    "* uh, the trial function, is an instance of the dolfin class TrialFunction\n",
    "* vh, the test function, is an instance of the dolfin class TestFunction\n",
    "* grad is the gradient operator acting on either a trial or test function. (In 1D grad:=ddx).\n",
    "* inner is the product of two scalar, vector, or tensor functions\n",
    "* dx denotes that the integration is performed on the whole domain. \n",
    "* ds (see next example) denotes that the integration is on the boundary of the domain."
   ]
  },
  {
   "cell_type": "code",
   "execution_count": 27,
   "metadata": {},
   "outputs": [],
   "source": [
    "# Define the trial function u and the test function v\n",
    "uh = TrialFunction(V)\n",
    "vh = TestFunction(V)\n",
    "\n",
    "# Define the weak form for the stiffness matrix (A_form) and for the rhs (b_form):\n",
    "A_form = inner(grad(uh), grad(vh))*dx\n",
    "b_form = inner(f,vh)*dx"
   ]
  },
  {
   "cell_type": "markdown",
   "metadata": {},
   "source": [
    "## 5. Assemble and solve the finite element discrete problem"
   ]
  },
  {
   "cell_type": "markdown",
   "metadata": {},
   "source": [
    "We now assemble the finite element stiffness matrix A and the right hand side vector b using the dolfin method assemble_system. assemble_system takes the following inputs: the bilinear form A_form, the linear form b_form, and a list of Dirichlet boundary conditions bcs. This method will automatically generate and compile efficient c++ code to perform the local assembly on each element of the mesh, and it returns the assembled global matrices after applying the Dirichlet boundary conditions.\n",
    "\n",
    "We now define the finite element function uh = Function(Vh) that represents the solution of the PDE. The interpolation weights are stored in uh.vector(). We use the solve(A,u,b) command to solve the linear system Au=b."
   ]
  },
  {
   "cell_type": "code",
   "execution_count": 28,
   "metadata": {},
   "outputs": [],
   "source": [
    "%matplotlib inline\n",
    "import matplotlib.pyplot as plt"
   ]
  },
  {
   "cell_type": "code",
   "execution_count": 29,
   "metadata": {},
   "outputs": [
    {
     "name": "stdout",
     "output_type": "stream",
     "text": [
      "Calling FFC just-in-time (JIT) compiler, this may take some time.\n",
      "Calling FFC just-in-time (JIT) compiler, this may take some time.\n"
     ]
    },
    {
     "data": {
      "text/plain": [
       "[<matplotlib.lines.Line2D at 0x7f335cd4dac8>]"
      ]
     },
     "execution_count": 29,
     "metadata": {},
     "output_type": "execute_result"
    },
    {
     "data": {
      "image/png": "[encoded data removed]",
      "text/plain": [
       "<Figure size 432x288 with 1 Axes>"
      ]
     },
     "metadata": {
      "needs_background": "light"
     },
     "output_type": "display_data"
    }
   ],
   "source": [
    "# Assemble the stiffness matrix A and rhs b. Apply the boundary conditions\n",
    "A, b = assemble_system(A_form, b_form, bcs)\n",
    "\n",
    "# Solve the linear system and visualize the solution\n",
    "uh = Function(V)\n",
    "solve(A, uh.vector(), b)\n",
    "#plt.figure()\n",
    "plot(uh, title = \"Solution\")"
   ]
  },
  {
   "cell_type": "raw",
   "metadata": {},
   "source": []
  },
  {
   "cell_type": "raw",
   "metadata": {},
   "source": []
  },
  {
   "cell_type": "markdown",
   "metadata": {},
   "source": [
    "Reference:\n",
    "1D bar poisson problem : https://uvilla.github.io/inverse17/02_IntroToFenics/Poisson1D.html"
   ]
  }
 ],
 "metadata": {
  "kernelspec": {
   "display_name": "Python 3",
   "language": "python",
   "name": "python3"
  },
  "language_info": {
   "codemirror_mode": {
    "name": "ipython",
    "version": 3
   },
   "file_extension": ".py",
   "mimetype": "text/x-python",
   "name": "python",
   "nbconvert_exporter": "python",
   "pygments_lexer": "ipython3",
   "version": "3.8.8"
  }
 },
 "nbformat": 4,
 "nbformat_minor": 4
}
