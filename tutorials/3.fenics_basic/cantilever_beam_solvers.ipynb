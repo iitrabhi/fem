{
 "cells": [
  {
   "cell_type": "code",
   "execution_count": 1,
   "metadata": {},
   "outputs": [],
   "source": [
    "from dolfin import *\n",
    "set_log_level(0)"
   ]
  },
  {
   "cell_type": "markdown",
   "metadata": {},
   "source": [
    "![image](cantilever_beam_fenics_tutorial.png)"
   ]
  },
  {
   "cell_type": "code",
   "execution_count": 2,
   "metadata": {},
   "outputs": [],
   "source": [
    "#For 2-D sytem\n",
    "mul = 5\n",
    "L = 25.\n",
    "H = 1.\n",
    "Nx = 250 * mul\n",
    "Ny = 10 * mul\n",
    "mesh = RectangleMesh(Point(0., 0.), Point(L, H), Nx, Ny, \"crossed\")"
   ]
  },
  {
   "cell_type": "code",
   "execution_count": 6,
   "metadata": {},
   "outputs": [
    {
     "data": {
      "text/plain": [
       "'triangle'"
      ]
     },
     "execution_count": 6,
     "metadata": {},
     "output_type": "execute_result"
    }
   ],
   "source": [
    "mesh.cell_name()"
   ]
  },
  {
   "cell_type": "code",
   "execution_count": 9,
   "metadata": {},
   "outputs": [
    {
     "data": {
      "text/plain": [
       "dolfin.cpp.geometry.Point"
      ]
     },
     "execution_count": 9,
     "metadata": {},
     "output_type": "execute_result"
    }
   ],
   "source": [
    "type(Point())"
   ]
  },
  {
   "cell_type": "code",
   "execution_count": 10,
   "metadata": {
    "collapsed": true,
    "jupyter": {
     "outputs_hidden": true
    },
    "tags": []
   },
   "outputs": [
    {
     "name": "stdout",
     "output_type": "stream",
     "text": [
      "Help on RectangleMesh in module dolfin.cpp.generation object:\n",
      "\n",
      "class RectangleMesh(dolfin.cpp.mesh.Mesh)\n",
      " |  DOLFIN Mesh object\n",
      " |  \n",
      " |  Method resolution order:\n",
      " |      RectangleMesh\n",
      " |      dolfin.cpp.mesh.Mesh\n",
      " |      dolfin.cpp.common.Variable\n",
      " |      pybind11_builtins.pybind11_object\n",
      " |      builtins.object\n",
      " |  \n",
      " |  Methods defined here:\n",
      " |  \n",
      " |  __init__(...)\n",
      " |      __init__(*args, **kwargs)\n",
      " |      Overloaded function.\n",
      " |      \n",
      " |      1. __init__(self: dolfin.cpp.generation.RectangleMesh, p0: dolfin::Point, p1: dolfin::Point, nx: int, ny: int, diagonal: str='right') -> None\n",
      " |      \n",
      " |      2. __init__(self: dolfin.cpp.generation.RectangleMesh, comm: MPICommWrapper, p0: dolfin::Point, p1: dolfin::Point, nx: int, ny: int, diagonal: str='right') -> None\n",
      " |  \n",
      " |  create(...) from builtins.PyCapsule\n",
      " |      create(*args, **kwargs)\n",
      " |      Overloaded function.\n",
      " |      \n",
      " |      1. create(p: List[dolfin::Point[2]], n: List[int[2]], cell_type: dolfin.cpp.mesh.CellType.Type, diagonal: str='right') -> dolfin.cpp.mesh.Mesh\n",
      " |      \n",
      " |      2. create(comm: MPICommWrapper, p: List[dolfin::Point[2]], n: List[int[2]], cell_type: dolfin.cpp.mesh.CellType.Type, diagonal: str='right') -> dolfin.cpp.mesh.Mesh\n",
      " |  \n",
      " |  ----------------------------------------------------------------------\n",
      " |  Data descriptors defined here:\n",
      " |  \n",
      " |  __dict__\n",
      " |  \n",
      " |  ----------------------------------------------------------------------\n",
      " |  Methods inherited from dolfin.cpp.mesh.Mesh:\n",
      " |  \n",
      " |  bounding_box_tree(...)\n",
      " |      bounding_box_tree(self: dolfin.cpp.mesh.Mesh) -> dolfin::BoundingBoxTree\n",
      " |  \n",
      " |  cell_name(...)\n",
      " |      cell_name(self: dolfin.cpp.mesh.Mesh) -> str\n",
      " |  \n",
      " |  cell_orientations(...)\n",
      " |      cell_orientations(self: dolfin.cpp.mesh.Mesh) -> List[int]\n",
      " |  \n",
      " |  cells(...)\n",
      " |      cells(self: dolfin.cpp.mesh.Mesh) -> array\n",
      " |  \n",
      " |  color(...)\n",
      " |      color(*args, **kwargs)\n",
      " |      Overloaded function.\n",
      " |      \n",
      " |      1. color(self: dolfin.cpp.mesh.Mesh, arg0: str) -> List[int]\n",
      " |      \n",
      " |      2. color(self: dolfin.cpp.mesh.Mesh, arg0: List[int]) -> List[int]\n",
      " |  \n",
      " |  coordinates(...)\n",
      " |      coordinates(self: dolfin.cpp.mesh.Mesh) -> numpy.ndarray[float64[m, n], flags.writeable, flags.c_contiguous]\n",
      " |  \n",
      " |  data(...)\n",
      " |      data(self: dolfin.cpp.mesh.Mesh) -> dolfin::MeshData\n",
      " |      \n",
      " |      Data associated with a mesh\n",
      " |  \n",
      " |  domains(...)\n",
      " |      domains(self: dolfin.cpp.mesh.Mesh) -> dolfin::MeshDomains\n",
      " |  \n",
      " |  geometric_dimension(self)\n",
      " |      Returns geometric dimension for ufl interface\n",
      " |  \n",
      " |  geometry(...)\n",
      " |      geometry(self: dolfin.cpp.mesh.Mesh) -> dolfin.cpp.mesh.MeshGeometry\n",
      " |      \n",
      " |      Mesh geometry\n",
      " |  \n",
      " |  hash(...)\n",
      " |      hash(self: dolfin.cpp.mesh.Mesh) -> int\n",
      " |  \n",
      " |  hmax(...)\n",
      " |      hmax(self: dolfin.cpp.mesh.Mesh) -> float\n",
      " |  \n",
      " |  hmin(...)\n",
      " |      hmin(self: dolfin.cpp.mesh.Mesh) -> float\n",
      " |  \n",
      " |  id(...)\n",
      " |      id(self: dolfin.cpp.mesh.Mesh) -> int\n",
      " |  \n",
      " |  init(...)\n",
      " |      init(*args, **kwargs)\n",
      " |      Overloaded function.\n",
      " |      \n",
      " |      1. init(self: dolfin.cpp.mesh.Mesh) -> None\n",
      " |      \n",
      " |      2. init(self: dolfin.cpp.mesh.Mesh, arg0: int) -> int\n",
      " |      \n",
      " |      3. init(self: dolfin.cpp.mesh.Mesh, arg0: int, arg1: int) -> None\n",
      " |  \n",
      " |  init_cell_orientations(...)\n",
      " |      init_cell_orientations(*args, **kwargs)\n",
      " |      Overloaded function.\n",
      " |      \n",
      " |      1. init_cell_orientations(self: dolfin.cpp.mesh.Mesh, arg0: dolfin.cpp.function.Expression) -> None\n",
      " |      \n",
      " |      2. init_cell_orientations(self: dolfin.cpp.mesh.Mesh, arg0: object) -> None\n",
      " |  \n",
      " |  init_global(...)\n",
      " |      init_global(self: dolfin.cpp.mesh.Mesh, arg0: int) -> None\n",
      " |  \n",
      " |  mpi_comm(...)\n",
      " |      mpi_comm(self: dolfin.cpp.mesh.Mesh) -> MPICommWrapper\n",
      " |  \n",
      " |  num_cells(...)\n",
      " |      num_cells(self: dolfin.cpp.mesh.Mesh) -> int\n",
      " |      \n",
      " |      Number of cells\n",
      " |  \n",
      " |  num_edges(...)\n",
      " |      num_edges(self: dolfin.cpp.mesh.Mesh) -> int\n",
      " |      \n",
      " |      Number of edges\n",
      " |  \n",
      " |  num_entities(...)\n",
      " |      num_entities(self: dolfin.cpp.mesh.Mesh, arg0: int) -> int\n",
      " |      \n",
      " |      Number of mesh entities\n",
      " |  \n",
      " |  num_entities_global(...)\n",
      " |      num_entities_global(self: dolfin.cpp.mesh.Mesh, arg0: int) -> int\n",
      " |  \n",
      " |  num_faces(...)\n",
      " |      num_faces(self: dolfin.cpp.mesh.Mesh) -> int\n",
      " |      \n",
      " |      Number of faces\n",
      " |  \n",
      " |  num_facets(...)\n",
      " |      num_facets(self: dolfin.cpp.mesh.Mesh) -> int\n",
      " |      \n",
      " |      Number of facets\n",
      " |  \n",
      " |  num_vertices(...)\n",
      " |      num_vertices(self: dolfin.cpp.mesh.Mesh) -> int\n",
      " |      \n",
      " |      Number of vertices\n",
      " |  \n",
      " |  order(...)\n",
      " |      order(self: dolfin.cpp.mesh.Mesh) -> None\n",
      " |  \n",
      " |  ordered(...)\n",
      " |      ordered(self: dolfin.cpp.mesh.Mesh) -> bool\n",
      " |  \n",
      " |  rmax(...)\n",
      " |      rmax(self: dolfin.cpp.mesh.Mesh) -> float\n",
      " |  \n",
      " |  rmin(...)\n",
      " |      rmin(self: dolfin.cpp.mesh.Mesh) -> float\n",
      " |  \n",
      " |  rotate(...)\n",
      " |      rotate(*args, **kwargs)\n",
      " |      Overloaded function.\n",
      " |      \n",
      " |      1. rotate(self: dolfin.cpp.mesh.Mesh, arg0: float, arg1: int, arg2: dolfin::Point) -> None\n",
      " |      \n",
      " |      2. rotate(self: dolfin.cpp.mesh.Mesh, angle: float, axis: int=2) -> None\n",
      " |  \n",
      " |  scale(...)\n",
      " |      scale(self: dolfin.cpp.mesh.Mesh, arg0: float) -> None\n",
      " |  \n",
      " |  smooth(...)\n",
      " |      smooth(self: dolfin.cpp.mesh.Mesh, num_iterations: int=1) -> None\n",
      " |  \n",
      " |  smooth_boundary(...)\n",
      " |      smooth_boundary(self: dolfin.cpp.mesh.Mesh, arg0: int, arg1: bool) -> None\n",
      " |  \n",
      " |  snap_boundary(...)\n",
      " |      snap_boundary(self: dolfin.cpp.mesh.Mesh, subdomain: dolfin::SubDomain, harmonic_smoothing: bool=True) -> None\n",
      " |  \n",
      " |  topology(...)\n",
      " |      topology(self: dolfin.cpp.mesh.Mesh) -> dolfin.cpp.mesh.MeshTopology\n",
      " |      \n",
      " |      Mesh topology\n",
      " |  \n",
      " |  translate(...)\n",
      " |      translate(self: dolfin.cpp.mesh.Mesh, arg0: dolfin::Point) -> None\n",
      " |  \n",
      " |  type(...)\n",
      " |      type(self: dolfin.cpp.mesh.Mesh) -> dolfin.cpp.mesh.CellType\n",
      " |  \n",
      " |  ufl_cell(self)\n",
      " |  \n",
      " |  ufl_coordinate_element(self)\n",
      " |      Return the finite element of the coordinate vector field of this\n",
      " |      domain.\n",
      " |  \n",
      " |  ufl_domain(self)\n",
      " |      Returns the ufl domain corresponding to the mesh.\n",
      " |  \n",
      " |  ufl_id(...)\n",
      " |      ufl_id(self: dolfin.cpp.mesh.Mesh) -> int\n",
      " |  \n",
      " |  ----------------------------------------------------------------------\n",
      " |  Methods inherited from dolfin.cpp.common.Variable:\n",
      " |  \n",
      " |  label(...)\n",
      " |      label(self: dolfin.cpp.common.Variable) -> str\n",
      " |  \n",
      " |  name(...)\n",
      " |      name(self: dolfin.cpp.common.Variable) -> str\n",
      " |  \n",
      " |  rename(...)\n",
      " |      rename(self: dolfin.cpp.common.Variable, arg0: str, arg1: str) -> None\n",
      " |  \n",
      " |  ----------------------------------------------------------------------\n",
      " |  Data descriptors inherited from dolfin.cpp.common.Variable:\n",
      " |  \n",
      " |  parameters\n",
      " |  \n",
      " |  ----------------------------------------------------------------------\n",
      " |  Methods inherited from pybind11_builtins.pybind11_object:\n",
      " |  \n",
      " |  __new__(*args, **kwargs) from pybind11_builtins.pybind11_type\n",
      " |      Create and return a new object.  See help(type) for accurate signature.\n",
      "\n"
     ]
    }
   ],
   "source": [
    "help(mesh)"
   ]
  },
  {
   "cell_type": "raw",
   "metadata": {},
   "source": [
    "#For 3-D system\n",
    "mul = 5\n",
    "L = 25.\n",
    "H = 1.\n",
    "W=1\n",
    "Nx = 250 * mul\n",
    "Ny = 10 * mul\n",
    "Nz= 10* mul\n",
    "mesh = BoxMesh(Point(0., 0., 0.), Point(L, H, W), Nx, Ny, Nz)"
   ]
  },
  {
   "cell_type": "markdown",
   "metadata": {},
   "source": [
    "### Defining the material properties\n",
    "We will define the properties of the materials in terms of Lame's parameter and type of model. Here, based on the type of model the value of Lame's parameter ($\\lambda$ and $\\mu$) changes.\n",
    "\n",
    "* for Plane stress case - $\\lambda=\\frac{E \\nu}{(1+\\nu)(1-2 \\nu)}$  and  $\\quad \\mu=\\frac{E}{2(1+\\nu)}$  \n",
    "In place stress, the stress is acting in two dimension only, there is no stress in third direction.\n",
    "\n",
    "* for Plane strain case - $\\lambda^{*}=\\frac{2 \\lambda \\mu}{\\lambda+2 \\mu} $, here $\\lambda$ is same as above, but the stress will be defined in terms of $\\lambda^{*}$ and $\\quad \\mu=\\frac{E}{2(1+\\nu)}$  \n",
    "In place strain, the systm of stress is such that no strain is produced in third direction, generally the length of third direction(dimension) is considered to be very large.\n"
   ]
  },
  {
   "cell_type": "code",
   "execution_count": 3,
   "metadata": {},
   "outputs": [],
   "source": [
    "E = Constant(1e5) #Young's modulus \n",
    "nu = Constant(0.3) # Poisson's ratio\n",
    "model = \"plane_stress\""
   ]
  },
  {
   "cell_type": "code",
   "execution_count": 4,
   "metadata": {},
   "outputs": [],
   "source": [
    "mu = E/2/(1+nu)\n",
    "lmbda = E*nu/(1+nu)/(1-2*nu)\n",
    "if model == \"plane_stress\":\n",
    "    lmbda = 2*mu*lmbda/(lmbda+2*mu)"
   ]
  },
  {
   "cell_type": "markdown",
   "metadata": {},
   "source": [
    "### Defining the function space\n",
    "As discussed earlier the second module in FEniCS code is to define the Function space.  \n",
    "Since, here we have a planar system having displacement in two directions so, `VectorFunctionSpace`.\n",
    "\n",
    "Now,we are defining a function `u_sol` which will store the value of the displacement so, `name` is give as `Displacement` which can be used when visulaizing the data in **Paraview**.\n"
   ]
  },
  {
   "cell_type": "code",
   "execution_count": 5,
   "metadata": {},
   "outputs": [],
   "source": [
    "V = VectorFunctionSpace(mesh, 'Lagrange', degree=1)\n",
    "u_sol = Function(V, name=\"Displacement\")"
   ]
  },
  {
   "cell_type": "markdown",
   "metadata": {},
   "source": [
    "**Stress** and **Strain** can be defined in terms of Lame's parameter as follows -   \n",
    "* Stress $\\sigma=\\lambda \\operatorname{tr}(\\varepsilon) \\mathbf{I}+2 \\mu \\varepsilon$  \n",
    "\n",
    "* Strain $\\varepsilon=\\frac{1}{2}\\left((\\nabla \\mathbf{u})^{T}+\\nabla \\mathbf{u}\\right)$  \n",
    "[Reference](https://readthedocs.org/projects/comet-fenics/downloads/pdf/latest/)\n"
   ]
  },
  {
   "cell_type": "code",
   "execution_count": 6,
   "metadata": {},
   "outputs": [],
   "source": [
    "def sigma(v):\n",
    "    return lmbda*tr(eps(v))*Identity(len(u_sol)) + 2.0*mu*eps(v)"
   ]
  },
  {
   "cell_type": "code",
   "execution_count": 7,
   "metadata": {},
   "outputs": [],
   "source": [
    "def eps(v):\n",
    "    return sym(grad(v))"
   ]
  },
  {
   "cell_type": "markdown",
   "metadata": {},
   "source": [
    "### Defining the loading function\n",
    "Now we can define the function to specify the load acting on it, considering here that only dead weight is acting on the body which can be defined in terms of the density of the material.  \n",
    "`f = Constant((fx,fy))` is used to defined the loading, `fx` and `fy` represent forces in *x* and *y* direction, respectively.\n",
    "\n",
    "Further, we will ass"
   ]
  },
  {
   "cell_type": "code",
   "execution_count": 8,
   "metadata": {},
   "outputs": [],
   "source": [
    "rho_g = 1e-3 #Density of the material\n",
    "f = Constant((0, -rho_g))"
   ]
  },
  {
   "cell_type": "raw",
   "metadata": {},
   "source": [
    "# for 3D\n",
    "rho_g = 1e-3 #Density of the material\n",
    "f= Constant((0, -rho_g, 0)) "
   ]
  },
  {
   "cell_type": "markdown",
   "metadata": {},
   "source": [
    "### Defining the strong form and Test and Trial functions along with marking the boundary\n",
    "As discussed earlier, we are using Test and Trial function as `u` and `v` and also defining the strong form of the equation with `E`    \n",
    "`dot(f,u_sol)` will do the dot(.) product of *f* and *u_sol*  \n",
    "In FEniCS, we don't need to define the weak form, that part of computation is done by FEniCS itself. `equation = derivative(E, u_sol, v)` and `grad_equation = derivative(equation, u_sol, u)` are used to generate the weak form.\n",
    "\n",
    "The `CompiledSubDomain` tool in FEniCS is to specify the subdomain in C++ code and thereby speed up our code as FEniCS compile everything in C++ in backend.  \n",
    "**\"on_boundary\"** is predefined in FEniCS,for 1-D boundary is point, 2-D it's line and 3-D it's surface.  \n",
    "x[0], x[1], x[2] = x, y, z.  \n",
    "`left = CompiledSubDomain(\"on_boundary && near(x[0], 0, tol)\", tol=1e-14)` means we are defining the boundary at $x = 0$ with $tol =10^{-14}$ as \"left\"."
   ]
  },
  {
   "cell_type": "code",
   "execution_count": 9,
   "metadata": {},
   "outputs": [],
   "source": [
    "u = TrialFunction(V)\n",
    "v = TestFunction(V)\n",
    "E = inner(sigma(u_sol), eps(u_sol))*dx - dot(f,u_sol)*ds()"
   ]
  },
  {
   "cell_type": "code",
   "execution_count": 10,
   "metadata": {},
   "outputs": [],
   "source": [
    "equation = derivative(E, u_sol, v)\n",
    "left = CompiledSubDomain(\"on_boundary && near(x[0], 0, tol)\", tol=1e-14)"
   ]
  },
  {
   "cell_type": "raw",
   "metadata": {},
   "source": [
    "support = CompiledSubDomain(\"near(x[0], 0, 1e-14) && on_boundary\")\n",
    "mf = MeshFunction(\"size_t\", mesh, mesh.topology().dim() - 1)\n",
    "mf.set_all(0)\n",
    "support.mark(mf, 1)\n",
    "file = XDMFFile(\"bcs.xdmf\")\n",
    "file.write(mf)\n",
    "------------------------------------------------------------------------------------------------------\n",
    "mvc_point = MeshValueCollection(\"size_t\", mesh, 0)\n",
    "mvc_surface = MeshValueCollection(\"size_t\", mesh, 2)\n",
    "\n",
    "f = open('mesh/boundaries/tags.json',) \n",
    "data = json.load(f)\n",
    "\n",
    "with XDMFFile(\"mesh/mesh/vertex.xdmf\") as infile:\n",
    "    infile.read(mvc_point, \"tag\")\n",
    "    \n",
    "with XDMFFile(\"mesh/mesh/triangle.xdmf\") as infile:\n",
    "    infile.read(mvc_surface, \"tag\")\n",
    "\n",
    "mf_surface = cpp.mesh.MeshFunctionSizet(mesh, mvc_surface)\n",
    "mf_point = cpp.mesh.MeshFunctionSizet(mesh, mvc_point)\n",
    "\n",
    "bc_left = DirichletBC(V, Constant((0.,0.,0.)), mf_surface, data['left'])"
   ]
  },
  {
   "cell_type": "markdown",
   "metadata": {},
   "source": [
    "### Defining the boundary condition\n",
    "`bc = DirichletBC(V, Constant((0.,0.)), left)` assigns boundary condition to object **bc**, `DirichletBC` is builtin function that takes in three arguments \n",
    "* Functionspace `V`\n",
    "* Value of displacement `Constant((0.,0.))` i.e. displacement in x and y direction is zero\n",
    "* Location `left` - location of the boundary\n",
    "\n",
    "### Defining the problem and solver \n",
    "`NonlinearVariationalProblem` defines the nature of problem and is assigned to object **problem_disp**  \n",
    "`NonlinearVariationalSolver` defines the type of solver we want to use which is assigned to object **solver_disp** and takes in **problem_disp** as argument.  \n",
    "`solver_disp.parameters` defines the parameters for the solver which is assigned to **prm_disp**, that can be used to define the type of solver and it's parameters."
   ]
  },
  {
   "cell_type": "code",
   "execution_count": 12,
   "metadata": {},
   "outputs": [],
   "source": [
    "bc = DirichletBC(V, Constant((0.,0.)), left)\n",
    "\n",
    "grad_equation = derivative(equation, u_sol, u)\n",
    "\n",
    "problem_disp = NonlinearVariationalProblem(\n",
    "                    equation, u_sol, bc, grad_equation)\n",
    "\n",
    "solver_disp = NonlinearVariationalSolver(problem_disp)\n",
    "prm_disp = solver_disp.parameters"
   ]
  },
  {
   "cell_type": "raw",
   "metadata": {},
   "source": [
    "#for 3D\n",
    "bc = DirichletBC(V, Constant((0.,0., 0.)), left)\n",
    "\n",
    "grad_equation = derivative(equation, u_sol, u)\n",
    "\n",
    "problem_disp = NonlinearVariationalProblem(\n",
    "                    equation, u_sol, bc, grad_equation)\n",
    "\n",
    "solver_disp = NonlinearVariationalSolver(problem_disp)\n",
    "prm_disp = solver_disp.parameters"
   ]
  },
  {
   "cell_type": "markdown",
   "metadata": {},
   "source": [
    "### Defining the solver type along with it's parameters and preconditioning\n",
    "There are various solvers and preconditionaers available in FEniCS, based on the nature of the problem we select a particular solvers. Every solver has some default parameters,which can be modified by using following command-  \n",
    "`prm_disp[\"Solver_type\"][\"Parameter\"] = value`\n",
    "The list of various solvers and preconditioners can be seen in figure.\n",
    "![figure](FEniCS@2x.png)\n",
    "\n",
    "**Reports** are used when there is some bug, and as the name suggest report will store some data which occupies alot of space so generally we keep it off, untill there is need for debugging. \n",
    "\n",
    "Sparse LU decomposition (Gaussian elimination) is used by default to solve linear systems of equations in FEniCS programs.However, sparse LU decomposition becomes slow and one quickly runs out of memory for larger problems. For large problems, we instead need to use iterative methods which are faster and require much less memory. \n",
    "As per my knowledge, preconditioners are used to condition or modify the irregular generated so as to ease the computing and enhance the performance."
   ]
  },
  {
   "cell_type": "code",
   "execution_count": 17,
   "metadata": {},
   "outputs": [],
   "source": [
    "solvers = (\n",
    "    \"bicgstab\",\n",
    "    \"cg\",\n",
    "    \"default\",\n",
    "    \"gmres\",\n",
    "    \"minres\",\n",
    "    \"mumps\",\n",
    "    \"petsc\",\n",
    "    \"richardson\",\n",
    "    \"superlu\",\n",
    "    \"tfqmr\",\n",
    "    \"umfpack\",\n",
    ")\n",
    "preconditioners = (\n",
    "    \"amg\",\n",
    "    \"default\",\n",
    "    \"hypre_amg\",\n",
    "    \"hypre_euclid\",\n",
    "    \"hypre_parasails\",\n",
    "    \"icc\",\n",
    "    \"ilu\",\n",
    "    \"jacobi\",\n",
    "    \"none\",\n",
    "    \"petsc_amg\",\n",
    "    \"sor\",\n",
    ")\n",
    "linesearch = (\"basic\", \"bt\", \"cp\", \"l2\", \"nleqerr\")\n",
    "prm_disp[\"nonlinear_solver\"] = \"snes\"\n",
    "prm_disp[\"newton_solver\"][\"maximum_iterations\"] = 100000\n",
    "prm_disp[\"newton_solver\"][\"report\"] = False    \n",
    "prm_disp[\"newton_solver\"][\"absolute_tolerance\"] = 1e-5\n",
    "prm_disp[\"newton_solver\"][\"relative_tolerance\"] = 1e-7\n",
    "prm_disp[\"newton_solver\"][\"linear_solver\"] = \"cg\"\n",
    "prm_disp[\"newton_solver\"][\"preconditioner\"] = \"default\"\n",
    "\n",
    "#prm_disp[\"newton_solver\"][\"lu_solver\"][\"report\"] = True\n",
    "prm_disp[\"newton_solver\"][\"krylov_solver\"][\"report\"] = True\n",
    "#prm_disp[\"newton_solver\"][\"krylov_solver\"][\"error_on_nonconvergence\"] = True\n",
    "#prm_disp[\"newton_solver\"][\"krylov_solver\"][\"absolute_tolerance\"] = 1e-7\n",
    "#prm_disp[\"newton_solver\"][\"krylov_solver\"][\"relative_tolerance\"] = 1e-5\n",
    "#prm_disp[\"newton_solver\"][\"krylov_solver\"][\"maximum_iterations\"] = 100\n",
    "#prm_disp[\"newton_solver\"][\"krylov_solver\"][\"nonzero_initial_guess\"] = True"
   ]
  },
  {
   "cell_type": "code",
   "execution_count": 19,
   "metadata": {},
   "outputs": [
    {
     "data": {
      "text/plain": [
       "['F_ufl',\n",
       " 'J_ufl',\n",
       " '__class__',\n",
       " '__delattr__',\n",
       " '__dict__',\n",
       " '__dir__',\n",
       " '__doc__',\n",
       " '__eq__',\n",
       " '__format__',\n",
       " '__ge__',\n",
       " '__getattribute__',\n",
       " '__gt__',\n",
       " '__hash__',\n",
       " '__init__',\n",
       " '__init_subclass__',\n",
       " '__le__',\n",
       " '__lt__',\n",
       " '__module__',\n",
       " '__ne__',\n",
       " '__new__',\n",
       " '__reduce__',\n",
       " '__reduce_ex__',\n",
       " '__repr__',\n",
       " '__setattr__',\n",
       " '__sizeof__',\n",
       " '__str__',\n",
       " '__subclasshook__',\n",
       " 'form_compiler_parameters',\n",
       " 'set_bounds',\n",
       " 'u_ufl']"
      ]
     },
     "execution_count": 19,
     "metadata": {},
     "output_type": "execute_result"
    }
   ],
   "source": [
    "dir(problem_disp)"
   ]
  },
  {
   "cell_type": "markdown",
   "metadata": {},
   "source": [
    "### Printing the result \n",
    "`print(\"Maximal deflection:\", -u_sol(L,H/2.)[1])` prints output at particular point **(L,H/2)** and **x[1]** tells that **y** coordinate is printed at that point."
   ]
  },
  {
   "cell_type": "code",
   "execution_count": 21,
   "metadata": {},
   "outputs": [
    {
     "name": "stdout",
     "output_type": "stream",
     "text": [
      "Maximal deflection: 0.006175684285033633\n"
     ]
    }
   ],
   "source": [
    "solver_disp.solve()\n",
    "\n",
    "\n",
    "\n",
    "print(\"Maximal deflection:\", -u_sol(L,H/2.)[1])"
   ]
  },
  {
   "cell_type": "raw",
   "metadata": {},
   "source": [
    "#for 3D\n",
    "solver_disp.solve()\n",
    "\n",
    "print(\"Maximal deflection:\", -u_sol(L,H/2.,0)[1])"
   ]
  },
  {
   "cell_type": "code",
   "execution_count": 14,
   "metadata": {},
   "outputs": [],
   "source": [
    "xdmf = XDMFFile(\"output/\" +  \"solution.xdmf\")\n",
    "xdmf.write(u_sol)\n",
    "xdmf.close()"
   ]
  },
  {
   "cell_type": "code",
   "execution_count": null,
   "metadata": {},
   "outputs": [],
   "source": []
  }
 ],
 "metadata": {
  "kernelspec": {
   "display_name": "Python 3",
   "language": "python",
   "name": "python3"
  },
  "language_info": {
   "codemirror_mode": {
    "name": "ipython",
    "version": 3
   },
   "file_extension": ".py",
   "mimetype": "text/x-python",
   "name": "python",
   "nbconvert_exporter": "python",
   "pygments_lexer": "ipython3",
   "version": "3.6.7"
  }
 },
 "nbformat": 4,
 "nbformat_minor": 4
}
