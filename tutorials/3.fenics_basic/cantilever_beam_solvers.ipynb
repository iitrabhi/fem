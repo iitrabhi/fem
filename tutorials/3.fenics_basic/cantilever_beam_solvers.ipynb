{
 "cells": [
  {
   "cell_type": "code",
   "execution_count": 1,
   "metadata": {},
   "outputs": [],
   "source": [
    "from dolfin import *\n",
    "set_log_level(0)"
   ]
  },
  {
   "cell_type": "code",
   "execution_count": 2,
   "metadata": {},
   "outputs": [],
   "source": [
    "mul = 5\n",
    "L = 25.\n",
    "H = 1.\n",
    "Nx = 250 * mul\n",
    "Ny = 10 * mul\n",
    "mesh = RectangleMesh(Point(0., 0.), Point(L, H), Nx, Ny, \"crossed\")"
   ]
  },
  {
   "cell_type": "code",
   "execution_count": 3,
   "metadata": {},
   "outputs": [],
   "source": [
    "def eps(v):\n",
    "    return sym(grad(v))"
   ]
  },
  {
   "cell_type": "code",
   "execution_count": 4,
   "metadata": {},
   "outputs": [],
   "source": [
    "E = Constant(1e5)\n",
    "nu = Constant(0.3)\n",
    "model = \"plane_stress\""
   ]
  },
  {
   "cell_type": "code",
   "execution_count": 5,
   "metadata": {},
   "outputs": [],
   "source": [
    "mu = E/2/(1+nu)\n",
    "lmbda = E*nu/(1+nu)/(1-2*nu)\n",
    "if model == \"plane_stress\":\n",
    "    lmbda = 2*mu*lmbda/(lmbda+2*mu)"
   ]
  },
  {
   "cell_type": "code",
   "execution_count": 6,
   "metadata": {},
   "outputs": [],
   "source": [
    "def sigma(v):\n",
    "    return lmbda*tr(eps(v))*Identity(2) + 2.0*mu*eps(v)"
   ]
  },
  {
   "cell_type": "code",
   "execution_count": 7,
   "metadata": {},
   "outputs": [],
   "source": [
    "rho_g = 1e-3\n",
    "f = Constant((0, -rho_g))"
   ]
  },
  {
   "cell_type": "code",
   "execution_count": 8,
   "metadata": {},
   "outputs": [
    {
     "name": "stdout",
     "output_type": "stream",
     "text": [
      "Calling FFC just-in-time (JIT) compiler, this may take some time.\n"
     ]
    }
   ],
   "source": [
    "V = VectorFunctionSpace(mesh, 'Lagrange', degree=2)\n",
    "u_sol = Function(V, name=\"Displacement\")"
   ]
  },
  {
   "cell_type": "code",
   "execution_count": 9,
   "metadata": {},
   "outputs": [],
   "source": [
    "u = TrialFunction(V)\n",
    "v = TestFunction(V)\n",
    "E = inner(sigma(u_sol), eps(u_sol))*dx - dot(f,u_sol)*ds()"
   ]
  },
  {
   "cell_type": "code",
   "execution_count": 10,
   "metadata": {},
   "outputs": [],
   "source": [
    "equation = derivative(E, u_sol, v)\n",
    "left = CompiledSubDomain(\"on_boundary && near(x[0], 0, tol)\", tol=1e-14)"
   ]
  },
  {
   "cell_type": "code",
   "execution_count": 11,
   "metadata": {},
   "outputs": [
    {
     "name": "stdout",
     "output_type": "stream",
     "text": [
      "Calling FFC just-in-time (JIT) compiler, this may take some time.\n",
      "Calling FFC just-in-time (JIT) compiler, this may take some time.\n"
     ]
    }
   ],
   "source": [
    "bc = DirichletBC(V, Constant((0.,0.)), left)\n",
    "\n",
    "grad_equation = derivative(equation, u_sol, u)\n",
    "\n",
    "problem_disp = NonlinearVariationalProblem(\n",
    "                    equation, u_sol, bc, grad_equation)\n",
    "\n",
    "solver_disp = NonlinearVariationalSolver(problem_disp)\n",
    "prm_disp = solver_disp.parameters"
   ]
  },
  {
   "cell_type": "code",
   "execution_count": 12,
   "metadata": {},
   "outputs": [],
   "source": [
    "solvers = (\n",
    "    \"bicgstab\",\n",
    "    \"cg\",\n",
    "    \"default\",\n",
    "    \"gmres\",\n",
    "    \"minres\",\n",
    "    \"mumps\",\n",
    "    \"petsc\",\n",
    "    \"richardson\",\n",
    "    \"superlu\",\n",
    "    \"tfqmr\",\n",
    "    \"umfpack\",\n",
    ")\n",
    "preconditioners = (\n",
    "    \"amg\",\n",
    "    \"default\",\n",
    "    \"hypre_amg\",\n",
    "    \"hypre_euclid\",\n",
    "    \"hypre_parasails\",\n",
    "    \"icc\",\n",
    "    \"ilu\",\n",
    "    \"jacobi\",\n",
    "    \"none\",\n",
    "    \"petsc_amg\",\n",
    "    \"sor\",\n",
    ")\n",
    "linesearch = (\"basic\", \"bt\", \"cp\", \"l2\", \"nleqerr\")\n",
    "prm_disp[\"nonlinear_solver\"] = \"newton\"\n",
    "prm_disp[\"newton_solver\"][\"maximum_iterations\"] = 100000\n",
    "prm_disp[\"newton_solver\"][\"report\"] = False\n",
    "prm_disp[\"newton_solver\"][\"absolute_tolerance\"] = 1e-5\n",
    "prm_disp[\"newton_solver\"][\"relative_tolerance\"] = 1e-7\n",
    "prm_disp[\"newton_solver\"][\"linear_solver\"] = \"cg\"\n",
    "prm_disp[\"newton_solver\"][\"preconditioner\"] = \"default\"\n",
    "\n",
    "#prm_disp[\"newton_solver\"][\"lu_solver\"][\"report\"] = True\n",
    "prm_disp[\"newton_solver\"][\"krylov_solver\"][\"report\"] = True\n",
    "#prm_disp[\"newton_solver\"][\"krylov_solver\"][\"error_on_nonconvergence\"] = True\n",
    "#prm_disp[\"newton_solver\"][\"krylov_solver\"][\"absolute_tolerance\"] = 1e-7\n",
    "#prm_disp[\"newton_solver\"][\"krylov_solver\"][\"relative_tolerance\"] = 1e-5\n",
    "#prm_disp[\"newton_solver\"][\"krylov_solver\"][\"maximum_iterations\"] = 100\n",
    "#prm_disp[\"newton_solver\"][\"krylov_solver\"][\"nonzero_initial_guess\"] = True"
   ]
  },
  {
   "cell_type": "code",
   "execution_count": null,
   "metadata": {},
   "outputs": [],
   "source": [
    "solver_disp.solve()\n",
    "\n",
    "\n",
    "\n",
    "print(\"Maximal deflection:\", -u_sol(L,H/2.)[1])"
   ]
  },
  {
   "cell_type": "code",
   "execution_count": null,
   "metadata": {},
   "outputs": [],
   "source": []
  }
 ],
 "metadata": {
  "kernelspec": {
   "display_name": "Python 3",
   "language": "python",
   "name": "python3"
  },
  "language_info": {
   "codemirror_mode": {
    "name": "ipython",
    "version": 3
   },
   "file_extension": ".py",
   "mimetype": "text/x-python",
   "name": "python",
   "nbconvert_exporter": "python",
   "pygments_lexer": "ipython3",
   "version": "3.6.7"
  }
 },
 "nbformat": 4,
 "nbformat_minor": 4
}
