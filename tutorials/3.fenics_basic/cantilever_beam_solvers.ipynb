{
 "cells": [
  {
   "cell_type": "code",
   "execution_count": 1,
   "metadata": {},
   "outputs": [],
   "source": [
    "from dolfin import *\n",
    "set_log_level(0)"
   ]
  },
  {
   "cell_type": "markdown",
   "metadata": {},
   "source": [
    "![image](cantilever_beam_fenics_tutorial.png)"
   ]
  },
  {
   "cell_type": "code",
   "execution_count": 2,
   "metadata": {},
   "outputs": [],
   "source": [
    "#For 2-D sytem\n",
    "mul = 5\n",
    "L = 25.\n",
    "H = 1.\n",
    "Nx = 250 * mul\n",
    "Ny = 10 * mul\n",
    "mesh = RectangleMesh(Point(0., 0.), Point(L, H), Nx, Ny, \"crossed\")"
   ]
  },
  {
   "cell_type": "raw",
   "metadata": {},
   "source": [
    "#For 3-D system\n",
    "mul = 5\n",
    "L = 25.\n",
    "H = 1.\n",
    "W=1\n",
    "Nx = 250 * mul\n",
    "Ny = 10 * mul\n",
    "Nz= 10* mul\n",
    "mesh = BoxleMesh(Point(0., 0., 0.), Point(L, H, W), Nx, Ny, Nz)"
   ]
  },
  {
   "cell_type": "markdown",
   "metadata": {},
   "source": [
    "### Defining the material properties\n",
    "We will define the properties of the materials in terms of Lame's parameter and type of model. Here, based on the type of model the value of Lame's parameter ($\\lambda$ and $\\mu$) changes.\n",
    "\n",
    "* for Plane stress case - $\\lambda=\\frac{E \\nu}{(1+\\nu)(1-2 \\nu)}$  and  $\\quad \\mu=\\frac{E}{2(1+\\nu)}$  \n",
    "In place stress, the stress is acting in two dimension only, there is no stress in third direction.\n",
    "\n",
    "* for Plane strain case - $\\lambda^{*}=\\frac{2 \\lambda \\mu}{\\lambda+2 \\mu} $, here $\\lambda$ is same as above, but the stress will be defined in terms of $\\lambda^{*}$ and $\\quad \\mu=\\frac{E}{2(1+\\nu)}$  \n",
    "In place strain, the systm of stress is such that no strain is produced in third direction, generally the length of third direction(dimension) is considered to be very large.\n"
   ]
  },
  {
   "cell_type": "code",
   "execution_count": 3,
   "metadata": {},
   "outputs": [],
   "source": [
    "E = Constant(1e5) #Young's modulus \n",
    "nu = Constant(0.3) # Poisson's ratio\n",
    "model = \"plane_stress\""
   ]
  },
  {
   "cell_type": "code",
   "execution_count": 4,
   "metadata": {},
   "outputs": [],
   "source": [
    "mu = E/2/(1+nu)\n",
    "lmbda = E*nu/(1+nu)/(1-2*nu)\n",
    "if model == \"plane_stress\":\n",
    "    lmbda = 2*mu*lmbda/(lmbda+2*mu)"
   ]
  },
  {
   "cell_type": "markdown",
   "metadata": {},
   "source": [
    "### Defining the function space\n",
    "As discussed earlier the second module in FEniCS code is to define the Function space.  \n",
    "Since, here we have a planar system having displacement in two directions so, `VectorFunctionSpace`.\n",
    "\n",
    "Now,we are defining a function `u_sol` which will store the value of the displacement so, `name` is give as `Displacement` which can be used when visulaizing the data in **Paraview**.\n"
   ]
  },
  {
   "cell_type": "code",
   "execution_count": 5,
   "metadata": {},
   "outputs": [],
   "source": [
    "V = VectorFunctionSpace(mesh, 'Lagrange', degree=1)\n",
    "u_sol = Function(V, name=\"Displacement\")"
   ]
  },
  {
   "cell_type": "markdown",
   "metadata": {},
   "source": [
    "**Stress** and **Strain** can be defined in terms of Lame's parameter as follows -   \n",
    "* Stress $\\sigma=\\lambda \\operatorname{tr}(\\varepsilon) \\mathbf{I}+2 \\mu \\varepsilon$  \n",
    "\n",
    "* Strain $\\varepsilon=\\frac{1}{2}\\left((\\nabla \\mathbf{u})^{T}+\\nabla \\mathbf{u}\\right)$  \n",
    "[Reference](https://readthedocs.org/projects/comet-fenics/downloads/pdf/latest/)\n"
   ]
  },
  {
   "cell_type": "code",
   "execution_count": 6,
   "metadata": {},
   "outputs": [],
   "source": [
    "def sigma(v):\n",
    "    return lmbda*tr(eps(v))*Identity(2) + 2.0*mu*eps(v)"
   ]
  },
  {
   "cell_type": "code",
   "execution_count": 7,
   "metadata": {},
   "outputs": [],
   "source": [
    "def eps(v):\n",
    "    return sym(grad(v))"
   ]
  },
  {
   "cell_type": "markdown",
   "metadata": {},
   "source": [
    "### Defining the loading function\n",
    "Now we can define the function to specify the load acting on it, considering here that only dead weight is acting on the body which can be defined in terms of the density of the material.  \n",
    "`f = Constant((fx,fy))` is used to defined the loading, `fx` and `fy` represent forces in *x* and *y* direction, respectively.\n",
    "\n",
    "Further, we will ass"
   ]
  },
  {
   "cell_type": "code",
   "execution_count": 8,
   "metadata": {},
   "outputs": [],
   "source": [
    "rho_g = 1e-3 #Density of the material\n",
    "f = Constant((0, -rho_g))\n",
    "f= Constant((0, -rho_g, 0)) # for 3D"
   ]
  },
  {
   "cell_type": "raw",
   "metadata": {},
   "source": [
    "# for 3D\n",
    "rho_g = 1e-3 #Density of the material\n",
    "f= Constant((0, -rho_g, 0)) "
   ]
  },
  {
   "cell_type": "markdown",
   "metadata": {},
   "source": [
    "### Defining the strong form and Test and Trial functions along with marking the boundary\n",
    "As discussed earlier, we are using Test and Trial function as `u` and `v` and also defining the strong form of the equation with `E`    \n",
    "`dot(f,u_sol)` will do the dot(.) product of *f* and *u_sol*  \n",
    "In FEniCS, we don't need to define the weak form, that part of computation is done by FEniCS itself. `equation = derivative(E, u_sol, v)` and `grad_equation = derivative(equation, u_sol, u)` are used to generate the weak form.\n",
    "\n",
    "The `CompiledSubDomain` tool in FEniCS is to specify the subdomain in C++ code and thereby speed up our code as FEniCS compile everything in C++ in backend.  \n",
    "**\"on_boundary\"** is predefined in FEniCS,for 1-D boundary is point, 2-D it's line and 3-D it's surface.  \n",
    "x[0], x[1], x[2] = x, y, z.  \n",
    "`left = CompiledSubDomain(\"on_boundary && near(x[0], 0, tol)\", tol=1e-14)` means we are defining the boundary at $x = 0$ with $tol =10^{-14}$ as \"left\"."
   ]
  },
  {
   "cell_type": "code",
   "execution_count": 9,
   "metadata": {},
   "outputs": [],
   "source": [
    "u = TrialFunction(V)\n",
    "v = TestFunction(V)\n",
    "E = inner(sigma(u_sol), eps(u_sol))*dx - dot(f,u_sol)*ds()"
   ]
  },
  {
   "cell_type": "code",
   "execution_count": 10,
   "metadata": {},
   "outputs": [],
   "source": [
    "equation = derivative(E, u_sol, v)\n",
    "left = CompiledSubDomain(\"on_boundary && near(x[0], 0, tol)\", tol=1e-14)"
   ]
  },
  {
   "cell_type": "markdown",
   "metadata": {},
   "source": [
    "### Defining the boundary condition\n",
    "`bc = DirichletBC(V, Constant((0.,0.)), left)` assigns boundary condition to object **bc**, `DirichletBC` is builtin function that takes in three arguments \n",
    "* Functionspace `V`\n",
    "* Value of displacement `Constant((0.,0.))` i.e. displacement in x and y direction is zero\n",
    "* Location `left` - location of the boundary\n",
    "\n",
    "### Defining the problem and solver \n",
    "`NonlinearVariationalProblem` defines the nature of problem and is assigned to object **problem_disp**  \n",
    "`NonlinearVariationalSolver` defines the type of solver we want to use which is assigned to object **solver_disp** and takes in **problem_disp** as argument.  \n",
    "`solver_disp.parameters` defines the parameters for the solver which is assigned to **prm_disp**, that can be used to define the type of solver and it's parameters."
   ]
  },
  {
   "cell_type": "code",
   "execution_count": 11,
   "metadata": {},
   "outputs": [
    {
     "name": "stdout",
     "output_type": "stream",
     "text": [
      "Calling FFC just-in-time (JIT) compiler, this may take some time.\n",
      "Calling FFC just-in-time (JIT) compiler, this may take some time.\n"
     ]
    }
   ],
   "source": [
    "bc = DirichletBC(V, Constant((0.,0.)), left)\n",
    "\n",
    "grad_equation = derivative(equation, u_sol, u)\n",
    "\n",
    "problem_disp = NonlinearVariationalProblem(\n",
    "                    equation, u_sol, bc, grad_equation)\n",
    "\n",
    "solver_disp = NonlinearVariationalSolver(problem_disp)\n",
    "prm_disp = solver_disp.parameters"
   ]
  },
  {
   "cell_type": "raw",
   "metadata": {},
   "source": [
    "#for 3D\n",
    "bc = DirichletBC(V, Constant((0.,0., 0.)), left)\n",
    "\n",
    "grad_equation = derivative(equation, u_sol, u)\n",
    "\n",
    "problem_disp = NonlinearVariationalProblem(\n",
    "                    equation, u_sol, bc, grad_equation)\n",
    "\n",
    "solver_disp = NonlinearVariationalSolver(problem_disp)\n",
    "prm_disp = solver_disp.parameters"
   ]
  },
  {
   "cell_type": "markdown",
   "metadata": {},
   "source": [
    "### Defining the solver type along with it's parameters and preconditioning\n",
    "There are various solvers and preconditionaers available in FEniCS, based on the nature of the problem we select a particular solvers. Every solver has some default parameters,which can be modified by using following command-  \n",
    "`prm_disp[\"Solver_type\"][\"Parameter\"] = value`\n",
    "The list of various solvers and preconditioners can be seen in figure.\n",
    "![figure](FEniCS@2x.pn)\n",
    "\n",
    "**Reports** are used when there is some bug, and as the name suggest report will store some data which occupies alot of space so generally we keep it off, untill there is need for debugging. \n",
    "\n",
    "Sparse LU decomposition (Gaussian elimination) is used by default to solve linear systems of equations in FEniCS programs.However, sparse LU decomposition becomes slow and one quickly runs out of memory for larger problems. For large problems, we instead need to use iterative methods which are faster and require much less memory. \n",
    "As per my knowledge, preconditioners are used to condition or modify the irregular generated so as to ease the computing and enhance the performance."
   ]
  },
  {
   "cell_type": "code",
   "execution_count": 12,
   "metadata": {},
   "outputs": [],
   "source": [
    "solvers = (\n",
    "    \"bicgstab\",\n",
    "    \"cg\",\n",
    "    \"default\",\n",
    "    \"gmres\",\n",
    "    \"minres\",\n",
    "    \"mumps\",\n",
    "    \"petsc\",\n",
    "    \"richardson\",\n",
    "    \"superlu\",\n",
    "    \"tfqmr\",\n",
    "    \"umfpack\",\n",
    ")\n",
    "preconditioners = (\n",
    "    \"amg\",\n",
    "    \"default\",\n",
    "    \"hypre_amg\",\n",
    "    \"hypre_euclid\",\n",
    "    \"hypre_parasails\",\n",
    "    \"icc\",\n",
    "    \"ilu\",\n",
    "    \"jacobi\",\n",
    "    \"none\",\n",
    "    \"petsc_amg\",\n",
    "    \"sor\",\n",
    ")\n",
    "linesearch = (\"basic\", \"bt\", \"cp\", \"l2\", \"nleqerr\")\n",
    "prm_disp[\"nonlinear_solver\"] = \"newton\"\n",
    "prm_disp[\"newton_solver\"][\"maximum_iterations\"] = 100000\n",
    "prm_disp[\"newton_solver\"][\"report\"] = False    \n",
    "prm_disp[\"newton_solver\"][\"absolute_tolerance\"] = 1e-5\n",
    "prm_disp[\"newton_solver\"][\"relative_tolerance\"] = 1e-7\n",
    "prm_disp[\"newton_solver\"][\"linear_solver\"] = \"cg\"\n",
    "prm_disp[\"newton_solver\"][\"preconditioner\"] = \"default\"\n",
    "\n",
    "#prm_disp[\"newton_solver\"][\"lu_solver\"][\"report\"] = True\n",
    "prm_disp[\"newton_solver\"][\"krylov_solver\"][\"report\"] = True\n",
    "#prm_disp[\"newton_solver\"][\"krylov_solver\"][\"error_on_nonconvergence\"] = True\n",
    "#prm_disp[\"newton_solver\"][\"krylov_solver\"][\"absolute_tolerance\"] = 1e-7\n",
    "#prm_disp[\"newton_solver\"][\"krylov_solver\"][\"relative_tolerance\"] = 1e-5\n",
    "#prm_disp[\"newton_solver\"][\"krylov_solver\"][\"maximum_iterations\"] = 100\n",
    "#prm_disp[\"newton_solver\"][\"krylov_solver\"][\"nonzero_initial_guess\"] = True"
   ]
  },
  {
   "cell_type": "markdown",
   "metadata": {},
   "source": [
    "### Printing the result \n",
    "`print(\"Maximal deflection:\", -u_sol(L,H/2.)[1])` prints output at particular point **(L,H/2)** and **x[1]** tells that **y** coordinate is printed at that point."
   ]
  },
  {
   "cell_type": "code",
   "execution_count": 13,
   "metadata": {},
   "outputs": [
    {
     "name": "stdout",
     "output_type": "stream",
     "text": [
      "Maximal deflection: 0.006004162178146888\n"
     ]
    }
   ],
   "source": [
    "solver_disp.solve()\n",
    "\n",
    "\n",
    "\n",
    "print(\"Maximal deflection:\", -u_sol(L,H/2.)[1])"
   ]
  },
  {
   "cell_type": "raw",
   "metadata": {},
   "source": [
    "#for 3D\n",
    "solver_disp.solve()\n",
    "\n",
    "print(\"Maximal deflection:\", -u_sol(L,H/2.)[1])"
   ]
  }
 ],
 "metadata": {
  "kernelspec": {
   "display_name": "Python 3",
   "language": "python",
   "name": "python3"
  },
  "language_info": {
   "codemirror_mode": {
    "name": "ipython",
    "version": 3
   },
   "file_extension": ".py",
   "mimetype": "text/x-python",
   "name": "python",
   "nbconvert_exporter": "python",
   "pygments_lexer": "ipython3",
   "version": "3.8.8"
  }
 },
 "nbformat": 4,
 "nbformat_minor": 4
}
